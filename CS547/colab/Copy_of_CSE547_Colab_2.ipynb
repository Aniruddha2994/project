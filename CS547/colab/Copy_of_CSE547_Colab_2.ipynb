{
  "nbformat": 4,
  "nbformat_minor": 0,
  "metadata": {
    "colab": {
      "name": "Copy of CSE547 - Colab 2.ipynb",
      "provenance": [],
      "collapsed_sections": []
    },
    "kernelspec": {
      "name": "python3",
      "display_name": "Python 3"
    }
  },
  "cells": [
    {
      "cell_type": "markdown",
      "metadata": {
        "id": "kPt5q27L5557",
        "colab_type": "text"
      },
      "source": [
        "# CSE547 - Colab 2\n",
        "## Frequent Pattern Mining in Spark\n",
        "\n",
        "Adapted from Stanford CS246"
      ]
    },
    {
      "cell_type": "markdown",
      "metadata": {
        "id": "p0-YhEpP_Ds-",
        "colab_type": "text"
      },
      "source": [
        "### Setup"
      ]
    },
    {
      "cell_type": "markdown",
      "metadata": {
        "id": "Zsj5WYpR9QId",
        "colab_type": "text"
      },
      "source": [
        "Let's setup Spark on your Colab environment.  Run the cell below!"
      ]
    },
    {
      "cell_type": "code",
      "metadata": {
        "id": "k-qHai2252mI",
        "colab_type": "code",
        "colab": {
          "base_uri": "https://localhost:8080/",
          "height": 269
        },
        "outputId": "fff280e1-1ac2-4c4a-d637-50a7eec0cbda"
      },
      "source": [
        "!pip install pyspark\n",
        "!pip install -U -q PyDrive\n",
        "!apt install openjdk-8-jdk-headless -qq\n",
        "import os\n",
        "os.environ[\"JAVA_HOME\"] = \"/usr/lib/jvm/java-8-openjdk-amd64\""
      ],
      "execution_count": 1,
      "outputs": [
        {
          "output_type": "stream",
          "text": [
            "Collecting pyspark\n",
            "\u001b[?25l  Downloading https://files.pythonhosted.org/packages/9a/5a/271c416c1c2185b6cb0151b29a91fff6fcaed80173c8584ff6d20e46b465/pyspark-2.4.5.tar.gz (217.8MB)\n",
            "\u001b[K     |████████████████████████████████| 217.8MB 53kB/s \n",
            "\u001b[?25hCollecting py4j==0.10.7\n",
            "\u001b[?25l  Downloading https://files.pythonhosted.org/packages/e3/53/c737818eb9a7dc32a7cd4f1396e787bd94200c3997c72c1dbe028587bd76/py4j-0.10.7-py2.py3-none-any.whl (197kB)\n",
            "\u001b[K     |████████████████████████████████| 204kB 40.8MB/s \n",
            "\u001b[?25hBuilding wheels for collected packages: pyspark\n",
            "  Building wheel for pyspark (setup.py) ... \u001b[?25l\u001b[?25hdone\n",
            "  Created wheel for pyspark: filename=pyspark-2.4.5-py2.py3-none-any.whl size=218257927 sha256=1eb39717feabf08c0610d2af056a1066bca0d5bd15e4033eb311a31191f7e309\n",
            "  Stored in directory: /root/.cache/pip/wheels/bf/db/04/61d66a5939364e756eb1c1be4ec5bdce6e04047fc7929a3c3c\n",
            "Successfully built pyspark\n",
            "Installing collected packages: py4j, pyspark\n",
            "Successfully installed py4j-0.10.7 pyspark-2.4.5\n",
            "openjdk-8-jdk-headless is already the newest version (8u242-b08-0ubuntu3~18.04).\n",
            "0 upgraded, 0 newly installed, 0 to remove and 25 not upgraded.\n"
          ],
          "name": "stdout"
        }
      ]
    },
    {
      "cell_type": "markdown",
      "metadata": {
        "id": "-CJ71AKe91eh",
        "colab_type": "text"
      },
      "source": [
        "Now we authenticate a Google Drive client to download the file we will be processing in our Spark job.\n",
        "\n",
        "**Make sure to follow the interactive instructions.**"
      ]
    },
    {
      "cell_type": "code",
      "metadata": {
        "id": "5K93ABEy9Zlo",
        "colab_type": "code",
        "colab": {}
      },
      "source": [
        "from pydrive.auth import GoogleAuth\n",
        "from pydrive.drive import GoogleDrive\n",
        "from google.colab import auth\n",
        "from oauth2client.client import GoogleCredentials\n",
        "\n",
        "# Authenticate and create the PyDrive client\n",
        "auth.authenticate_user()\n",
        "gauth = GoogleAuth()\n",
        "gauth.credentials = GoogleCredentials.get_application_default()\n",
        "drive = GoogleDrive(gauth)"
      ],
      "execution_count": 0,
      "outputs": []
    },
    {
      "cell_type": "code",
      "metadata": {
        "id": "0orRvrc1-545",
        "colab_type": "code",
        "colab": {}
      },
      "source": [
        "id='1dhi1F78ssqR8gE6U-AgB80ZW7V_9snX4'\n",
        "downloaded = drive.CreateFile({'id': id})\n",
        "downloaded.GetContentFile('products.csv')\n",
        "\n",
        "id='1KZBNEaIyMTcsRV817us6uLZgm-Mii8oU'\n",
        "downloaded = drive.CreateFile({'id': id})\n",
        "downloaded.GetContentFile('order_products__train.csv')"
      ],
      "execution_count": 0,
      "outputs": []
    },
    {
      "cell_type": "markdown",
      "metadata": {
        "id": "qwtlO4_m_LbQ",
        "colab_type": "text"
      },
      "source": [
        "If you executed the cells above, you should be able to see the dataset we will need for this Colab under the \"Files\" tab on the left panel."
      ]
    },
    {
      "cell_type": "code",
      "metadata": {
        "id": "twk-K-jilWK7",
        "colab_type": "code",
        "colab": {}
      },
      "source": [
        "import pandas as pd\n",
        "import numpy as np\n",
        "import matplotlib.pyplot as plt\n",
        "%matplotlib inline\n",
        "\n",
        "import pyspark\n",
        "from pyspark.sql import *\n",
        "from pyspark.sql.functions import *\n",
        "from pyspark import SparkContext, SparkConf\n",
        "from pyspark.sql import functions as F"
      ],
      "execution_count": 0,
      "outputs": []
    },
    {
      "cell_type": "markdown",
      "metadata": {
        "id": "dr-8fK-1lmY0",
        "colab_type": "text"
      },
      "source": [
        "Let's initialize the Spark context."
      ]
    },
    {
      "cell_type": "code",
      "metadata": {
        "id": "UOwtm2l7lePt",
        "colab_type": "code",
        "colab": {}
      },
      "source": [
        "# create the session\n",
        "conf = SparkConf().set(\"spark.ui.port\", \"4050\")\n",
        "\n",
        "# create the context\n",
        "sc = pyspark.SparkContext(conf=conf)\n",
        "spark = SparkSession.builder.getOrCreate()"
      ],
      "execution_count": 0,
      "outputs": []
    },
    {
      "cell_type": "markdown",
      "metadata": {
        "id": "s-LpyCLzlul6",
        "colab_type": "text"
      },
      "source": [
        "You can easily check the current version and get the link of the web interface. In the Spark UI, you can monitor the progress of your job and debug the performance bottlenecks (if your Colab is running with a **local runtime**)."
      ]
    },
    {
      "cell_type": "code",
      "metadata": {
        "id": "0g87iz4klwYJ",
        "colab_type": "code",
        "colab": {
          "base_uri": "https://localhost:8080/",
          "height": 214
        },
        "outputId": "19a785f6-ce2e-4b6c-caa6-acf20afd6733"
      },
      "source": [
        "spark"
      ],
      "execution_count": 6,
      "outputs": [
        {
          "output_type": "execute_result",
          "data": {
            "text/html": [
              "\n",
              "            <div>\n",
              "                <p><b>SparkSession - in-memory</b></p>\n",
              "                \n",
              "        <div>\n",
              "            <p><b>SparkContext</b></p>\n",
              "\n",
              "            <p><a href=\"http://2c1d23de1873:4050\">Spark UI</a></p>\n",
              "\n",
              "            <dl>\n",
              "              <dt>Version</dt>\n",
              "                <dd><code>v2.4.5</code></dd>\n",
              "              <dt>Master</dt>\n",
              "                <dd><code>local[*]</code></dd>\n",
              "              <dt>AppName</dt>\n",
              "                <dd><code>pyspark-shell</code></dd>\n",
              "            </dl>\n",
              "        </div>\n",
              "        \n",
              "            </div>\n",
              "        "
            ],
            "text/plain": [
              "<pyspark.sql.session.SparkSession at 0x7efd55b8c898>"
            ]
          },
          "metadata": {
            "tags": []
          },
          "execution_count": 6
        }
      ]
    },
    {
      "cell_type": "markdown",
      "metadata": {
        "id": "Vdwc4xKPl3Jv",
        "colab_type": "text"
      },
      "source": [
        "If you are running this Colab on the Google hosted runtime, the cell below will create a *ngrok* tunnel which will allow you to still check the Spark UI."
      ]
    },
    {
      "cell_type": "code",
      "metadata": {
        "id": "qephEB4Tl14J",
        "colab_type": "code",
        "colab": {
          "base_uri": "https://localhost:8080/",
          "height": 252
        },
        "outputId": "a5edc7fd-0062-42a0-aad0-ebcffdf0e4e6"
      },
      "source": [
        "!wget https://bin.equinox.io/c/4VmDzA7iaHb/ngrok-stable-linux-amd64.zip\n",
        "!unzip ngrok-stable-linux-amd64.zip\n",
        "get_ipython().system_raw('./ngrok http 4050 &')\n",
        "!curl -s http://localhost:4040/api/tunnels | python3 -c \\\n",
        "    \"import sys, json; print(json.load(sys.stdin)['tunnels'][0]['public_url'])\""
      ],
      "execution_count": 7,
      "outputs": [
        {
          "output_type": "stream",
          "text": [
            "--2020-04-16 19:42:34--  https://bin.equinox.io/c/4VmDzA7iaHb/ngrok-stable-linux-amd64.zip\n",
            "Resolving bin.equinox.io (bin.equinox.io)... 52.22.117.137, 34.196.154.11, 52.200.114.213, ...\n",
            "Connecting to bin.equinox.io (bin.equinox.io)|52.22.117.137|:443... connected.\n",
            "HTTP request sent, awaiting response... 200 OK\n",
            "Length: 13773305 (13M) [application/octet-stream]\n",
            "Saving to: ‘ngrok-stable-linux-amd64.zip’\n",
            "\n",
            "ngrok-stable-linux- 100%[===================>]  13.13M  14.0MB/s    in 0.9s    \n",
            "\n",
            "2020-04-16 19:42:36 (14.0 MB/s) - ‘ngrok-stable-linux-amd64.zip’ saved [13773305/13773305]\n",
            "\n",
            "Archive:  ngrok-stable-linux-amd64.zip\n",
            "  inflating: ngrok                   \n",
            "https://fcf84b2c.ngrok.io\n"
          ],
          "name": "stdout"
        }
      ]
    },
    {
      "cell_type": "markdown",
      "metadata": {
        "id": "CRaF2A_j_nC7",
        "colab_type": "text"
      },
      "source": [
        "### Your task"
      ]
    },
    {
      "cell_type": "markdown",
      "metadata": {
        "id": "ebLNUxP0_8x3",
        "colab_type": "text"
      },
      "source": [
        "If you run successfully the setup stage, you are ready to work with the **3 Million Instacart Orders** dataset. In case you want to read more about it, check the [official Instacart blog post](https://tech.instacart.com/3-million-instacart-orders-open-sourced-d40d29ead6f2) about it, a concise [schema description](https://gist.github.com/jeremystan/c3b39d947d9b88b3ccff3147dbcf6c6b) of the dataset, and the [download page](https://www.instacart.com/datasets/grocery-shopping-2017).\n",
        "\n",
        "In this Colab, we will be working only with a small training dataset (~131K orders) to perform fast Frequent Pattern Mining with the FP-Growth algorithm."
      ]
    },
    {
      "cell_type": "code",
      "metadata": {
        "id": "xu-e7Ph2_ruG",
        "colab_type": "code",
        "colab": {}
      },
      "source": [
        "products = spark.read.csv('products.csv', header=True, inferSchema=True)\n",
        "orders = spark.read.csv('order_products__train.csv', header=True, inferSchema=True)"
      ],
      "execution_count": 0,
      "outputs": []
    },
    {
      "cell_type": "code",
      "metadata": {
        "id": "hhxZZRT9syUO",
        "colab_type": "code",
        "colab": {
          "base_uri": "https://localhost:8080/",
          "height": 118
        },
        "outputId": "f6221f52-5bc6-40a3-9dbe-f46c7d2571d7"
      },
      "source": [
        "products.printSchema()"
      ],
      "execution_count": 9,
      "outputs": [
        {
          "output_type": "stream",
          "text": [
            "root\n",
            " |-- product_id: integer (nullable = true)\n",
            " |-- product_name: string (nullable = true)\n",
            " |-- aisle_id: string (nullable = true)\n",
            " |-- department_id: string (nullable = true)\n",
            "\n"
          ],
          "name": "stdout"
        }
      ]
    },
    {
      "cell_type": "code",
      "metadata": {
        "id": "kkH4gzvHx5dq",
        "colab_type": "code",
        "colab": {
          "base_uri": "https://localhost:8080/",
          "height": 34
        },
        "outputId": "9e1bbe1b-26c6-432e-bbde-860f5e810c3c"
      },
      "source": [
        "x = products.filter(products.product_id == 44910).select(products.product_name).rdd.map(tuple)\n",
        "x.take(1)"
      ],
      "execution_count": 82,
      "outputs": [
        {
          "output_type": "execute_result",
          "data": {
            "text/plain": [
              "[('Organic Spring Mix Salad',)]"
            ]
          },
          "metadata": {
            "tags": []
          },
          "execution_count": 82
        }
      ]
    },
    {
      "cell_type": "code",
      "metadata": {
        "id": "8VeRYRz2s1pm",
        "colab_type": "code",
        "colab": {
          "base_uri": "https://localhost:8080/",
          "height": 118
        },
        "outputId": "e936f3be-da7d-4c4a-d1a1-a27667bea6ee"
      },
      "source": [
        "orders.printSchema()"
      ],
      "execution_count": 10,
      "outputs": [
        {
          "output_type": "stream",
          "text": [
            "root\n",
            " |-- order_id: integer (nullable = true)\n",
            " |-- product_id: integer (nullable = true)\n",
            " |-- add_to_cart_order: integer (nullable = true)\n",
            " |-- reordered: integer (nullable = true)\n",
            "\n"
          ],
          "name": "stdout"
        }
      ]
    },
    {
      "cell_type": "markdown",
      "metadata": {
        "id": "h5muD_Io59CG",
        "colab_type": "text"
      },
      "source": [
        "Use the Spark Dataframe API to join 'products' and 'orders', so that you will be able to see the product names in each transaction (and not only their ids).  Then, group by the orders by 'order_id' to obtain one row per basket (i.e., set of products purchased together by one customer). "
      ]
    },
    {
      "cell_type": "code",
      "metadata": {
        "id": "zRH4o4p7s7V6",
        "colab_type": "code",
        "colab": {
          "base_uri": "https://localhost:8080/",
          "height": 202
        },
        "outputId": "05cc09f8-744d-48c0-89d0-d0619f6fe541"
      },
      "source": [
        "# YOUR CODE HERE\n",
        "orders.registerTempTable(\"orders\")\n",
        "products.registerTempTable(\"products\")\n",
        "\n",
        "query = \"\"\"SELECT o.*, p.product_name as product_name\n",
        "          FROM orders o left join products p\n",
        "          on o.product_id = p.product_id\"\"\"\n",
        "orders_joined = spark.sql(query)\n",
        "orders_joined.show(5)"
      ],
      "execution_count": 14,
      "outputs": [
        {
          "output_type": "stream",
          "text": [
            "+--------+----------+-----------------+---------+--------------------+\n",
            "|order_id|product_id|add_to_cart_order|reordered|        product_name|\n",
            "+--------+----------+-----------------+---------+--------------------+\n",
            "|       1|     49302|                1|        1|    Bulgarian Yogurt|\n",
            "|       1|     11109|                2|        1|Organic 4% Milk F...|\n",
            "|       1|     10246|                3|        0|Organic Celery He...|\n",
            "|       1|     49683|                4|        0|      Cucumber Kirby|\n",
            "|       1|     43633|                5|        1|Lightly Smoked Sa...|\n",
            "+--------+----------+-----------------+---------+--------------------+\n",
            "only showing top 5 rows\n",
            "\n"
          ],
          "name": "stdout"
        }
      ]
    },
    {
      "cell_type": "code",
      "metadata": {
        "id": "PnIB69lnueHr",
        "colab_type": "code",
        "colab": {
          "base_uri": "https://localhost:8080/",
          "height": 454
        },
        "outputId": "1ad8eaf7-9b9b-4795-aab6-b4fcac316b2c"
      },
      "source": [
        "from pyspark.sql.functions import col, isnan, when, trim\n",
        "\n",
        "def to_null(c):\n",
        "    return when(~(col(c).isNull() | isnan(col(c)) | (trim(col(c)) == \"\")), col(c))\n",
        "\n",
        "\n",
        "orders_clean = orders_joined.select([to_null(c).alias(c) for c in orders_joined.columns]).na.drop()\n",
        "orders_clean.show()"
      ],
      "execution_count": 62,
      "outputs": [
        {
          "output_type": "stream",
          "text": [
            "+--------+----------+-----------------+---------+--------------------+\n",
            "|order_id|product_id|add_to_cart_order|reordered|        product_name|\n",
            "+--------+----------+-----------------+---------+--------------------+\n",
            "|       1|     49302|                1|        1|    Bulgarian Yogurt|\n",
            "|       1|     11109|                2|        1|Organic 4% Milk F...|\n",
            "|       1|     10246|                3|        0|Organic Celery He...|\n",
            "|       1|     49683|                4|        0|      Cucumber Kirby|\n",
            "|       1|     43633|                5|        1|Lightly Smoked Sa...|\n",
            "|       1|     13176|                6|        0|Bag of Organic Ba...|\n",
            "|       1|     47209|                7|        0|Organic Hass Avocado|\n",
            "|       1|     22035|                8|        1|Organic Whole Str...|\n",
            "|      36|     39612|                1|        0|Grated Pecorino R...|\n",
            "|      36|     19660|                2|        1|        Spring Water|\n",
            "|      36|     49235|                3|        0| Organic Half & Half|\n",
            "|      36|     43086|                4|        1|  Super Greens Salad|\n",
            "|      36|     46620|                5|        1|Cage Free Extra L...|\n",
            "|      36|     34497|                6|        1|Prosciutto, Ameri...|\n",
            "|      36|     48679|                7|        1|Organic Garnet Sw...|\n",
            "|      36|     46979|                8|        1|           Asparagus|\n",
            "|      38|     11913|                1|        0|  Shelled Pistachios|\n",
            "|      38|     18159|                2|        0|Organic Biologiqu...|\n",
            "|      38|      4461|                3|        0|Organic Raw Unfil...|\n",
            "|      38|     21616|                4|        1|Organic Baby Arugula|\n",
            "+--------+----------+-----------------+---------+--------------------+\n",
            "only showing top 20 rows\n",
            "\n"
          ],
          "name": "stdout"
        }
      ]
    },
    {
      "cell_type": "code",
      "metadata": {
        "id": "3ZQItZj3lG-p",
        "colab_type": "code",
        "colab": {}
      },
      "source": [
        ""
      ],
      "execution_count": 0,
      "outputs": []
    },
    {
      "cell_type": "code",
      "metadata": {
        "id": "_8qwher8iapg",
        "colab_type": "code",
        "colab": {
          "base_uri": "https://localhost:8080/",
          "height": 202
        },
        "outputId": "0d732132-ab9f-444b-fe8a-ffbeecca7ab6"
      },
      "source": [
        "import pyspark.sql.functions as f\n",
        "orders_basket = orders_clean.groupby(\"order_id\").agg(f.collect_list(orders_clean.product_name))\n",
        "orders_basket = orders_basket.select(col(\"order_id\").alias(\"order_id\"), col(\"collect_list(product_name)\").alias(\"product_name\"))\n",
        "orders_basket.show(5)"
      ],
      "execution_count": 115,
      "outputs": [
        {
          "output_type": "stream",
          "text": [
            "+--------+--------------------+\n",
            "|order_id|        product_name|\n",
            "+--------+--------------------+\n",
            "|    1342|[Bag of Organic B...|\n",
            "|    1591|[Cracked Wheat, O...|\n",
            "|    4519|[Beet Apple Carro...|\n",
            "|    4935|             [Vodka]|\n",
            "|    6357|[Fresh Mozzarella...|\n",
            "+--------+--------------------+\n",
            "only showing top 5 rows\n",
            "\n"
          ],
          "name": "stdout"
        }
      ]
    },
    {
      "cell_type": "code",
      "metadata": {
        "id": "6jxHe4LQlYp8",
        "colab_type": "code",
        "colab": {}
      },
      "source": [
        ""
      ],
      "execution_count": 0,
      "outputs": []
    },
    {
      "cell_type": "markdown",
      "metadata": {
        "id": "EfHoTLAg6qnM",
        "colab_type": "text"
      },
      "source": [
        "In this Colab we will explore [MLlib](https://spark.apache.org/mllib/), Apache Spark's scalable machine learning library. Specifically, you can use its implementation of the [FP-Growth](https://spark.apache.org/docs/latest/ml-frequent-pattern-mining.html#fp-growth) algorithm to perform efficiently Frequent Pattern Mining in Spark.\n",
        "Use the Python example in the documentation, and train a model with \n",
        "\n",
        "```minSupport=0.01``` and ```minConfidence=0.5```\n",
        "\n"
      ]
    },
    {
      "cell_type": "code",
      "metadata": {
        "id": "boWgxXNns089",
        "colab_type": "code",
        "colab": {}
      },
      "source": [
        "# YOUR CODE HERE\n",
        "from pyspark.ml.fpm import FPGrowth\n",
        "\n",
        "fpGrowth = FPGrowth(itemsCol=\"product_name\", minSupport=0.01, minConfidence=0.5)\n",
        "model = fpGrowth.fit(orders_basket)\n",
        "\n",
        "# transform examines the input items against all the association rules and summarize the\n",
        "# consequents as prediction\n",
        "#model.transform(df).show()"
      ],
      "execution_count": 0,
      "outputs": []
    },
    {
      "cell_type": "markdown",
      "metadata": {
        "id": "6kpTVdfD8UiO",
        "colab_type": "text"
      },
      "source": [
        "Compute how many Frequent Itemsets and Association Rules were generated by running FP-growth.\n"
      ]
    },
    {
      "cell_type": "code",
      "metadata": {
        "id": "6KYgQ_URunvA",
        "colab_type": "code",
        "colab": {
          "base_uri": "https://localhost:8080/",
          "height": 34
        },
        "outputId": "1eedfa3c-e2e0-4833-e455-721feb93833e"
      },
      "source": [
        "# YOUR CODE HERE\n",
        "model.freqItemsets.count()"
      ],
      "execution_count": 117,
      "outputs": [
        {
          "output_type": "execute_result",
          "data": {
            "text/plain": [
              "120"
            ]
          },
          "metadata": {
            "tags": []
          },
          "execution_count": 117
        }
      ]
    },
    {
      "cell_type": "code",
      "metadata": {
        "id": "HkYxeXZnkhtw",
        "colab_type": "code",
        "colab": {
          "base_uri": "https://localhost:8080/",
          "height": 101
        },
        "outputId": "169caf83-7fba-44a0-91c9-02a55c862541"
      },
      "source": [
        "model.associationRules.show()"
      ],
      "execution_count": 118,
      "outputs": [
        {
          "output_type": "stream",
          "text": [
            "+----------+----------+----------+----+\n",
            "|antecedent|consequent|confidence|lift|\n",
            "+----------+----------+----------+----+\n",
            "+----------+----------+----------+----+\n",
            "\n"
          ],
          "name": "stdout"
        }
      ]
    },
    {
      "cell_type": "markdown",
      "metadata": {
        "id": "qT8Lwm1VAPoN",
        "colab_type": "text"
      },
      "source": [
        "Now retrain the FP-growth model changing only \n",
        "```minsupport=0.001``` \n",
        "and compute how many Frequent Itemsets and Association Rules were generated."
      ]
    },
    {
      "cell_type": "code",
      "metadata": {
        "id": "F4LTM9beApYn",
        "colab_type": "code",
        "colab": {}
      },
      "source": [
        "# YOUR CODE HERE\n",
        "\n",
        "\n",
        "fpGrowth = FPGrowth(itemsCol=\"product_name\", minSupport=0.001, minConfidence=0.5)\n",
        "model_2 = fpGrowth.fit(orders_basket)\n"
      ],
      "execution_count": 0,
      "outputs": []
    },
    {
      "cell_type": "code",
      "metadata": {
        "id": "SfrqmKdzmzwA",
        "colab_type": "code",
        "colab": {
          "base_uri": "https://localhost:8080/",
          "height": 470
        },
        "outputId": "5231e164-8df3-4b32-961b-7856d623c0a3"
      },
      "source": [
        "x = model_2.freqItemsets\n",
        "x.orderBy(x[\"freq\"].desc()).show(21, False)"
      ],
      "execution_count": 128,
      "outputs": [
        {
          "output_type": "stream",
          "text": [
            "+------------------------+-----+\n",
            "|items                   |freq |\n",
            "+------------------------+-----+\n",
            "|[Banana]                |18726|\n",
            "|[Bag of Organic Bananas]|15480|\n",
            "|[Organic Strawberries]  |10894|\n",
            "|[Organic Baby Spinach]  |9784 |\n",
            "|[Large Lemon]           |8135 |\n",
            "|[Organic Avocado]       |7409 |\n",
            "|[Organic Hass Avocado]  |7293 |\n",
            "|[Strawberries]          |6494 |\n",
            "|[Limes]                 |6033 |\n",
            "|[Organic Raspberries]   |5546 |\n",
            "|[Organic Blueberries]   |4966 |\n",
            "|[Organic Whole Milk]    |4908 |\n",
            "|[Organic Cucumber]      |4613 |\n",
            "|[Organic Zucchini]      |4589 |\n",
            "|[Organic Yellow Onion]  |4290 |\n",
            "|[Organic Garlic]        |4158 |\n",
            "|[Seedless Red Grapes]   |4059 |\n",
            "|[Asparagus]             |3868 |\n",
            "|[Organic Grape Tomatoes]|3823 |\n",
            "|[Organic Red Onion]     |3818 |\n",
            "|[Yellow Onions]         |3762 |\n",
            "+------------------------+-----+\n",
            "only showing top 21 rows\n",
            "\n"
          ],
          "name": "stdout"
        }
      ]
    },
    {
      "cell_type": "code",
      "metadata": {
        "id": "jawyovYSm0YU",
        "colab_type": "code",
        "colab": {
          "base_uri": "https://localhost:8080/",
          "height": 34
        },
        "outputId": "90767ada-a4c9-4a41-d4a0-842fbe99b237"
      },
      "source": [
        "model_2.associationRules.count()"
      ],
      "execution_count": 126,
      "outputs": [
        {
          "output_type": "execute_result",
          "data": {
            "text/plain": [
              "11"
            ]
          },
          "metadata": {
            "tags": []
          },
          "execution_count": 126
        }
      ]
    },
    {
      "cell_type": "code",
      "metadata": {
        "id": "LfCmR8_Oxts6",
        "colab_type": "code",
        "colab": {
          "base_uri": "https://localhost:8080/",
          "height": 286
        },
        "outputId": "79374c22-7c9d-4863-ab2c-3d921e64c80a"
      },
      "source": [
        "y = model_2.associationRules\n",
        "y.show(20, False)"
      ],
      "execution_count": 129,
      "outputs": [
        {
          "output_type": "stream",
          "text": [
            "+-----------------------------------------------------------------+------------------------+------------------+------------------+\n",
            "|antecedent                                                       |consequent              |confidence        |lift              |\n",
            "+-----------------------------------------------------------------+------------------------+------------------+------------------+\n",
            "|[Organic Kiwi, Organic Hass Avocado]                             |[Bag of Organic Bananas]|0.5459770114942529|4.627719489738336 |\n",
            "|[Organic Raspberries, Organic Hass Avocado, Organic Strawberries]|[Bag of Organic Bananas]|0.5984251968503937|5.072272070642333 |\n",
            "|[Organic Broccoli, Organic Hass Avocado]                         |[Bag of Organic Bananas]|0.5048231511254019|4.278897986822536 |\n",
            "|[Organic Unsweetened Almond Milk, Organic Hass Avocado]          |[Bag of Organic Bananas]|0.5141065830721003|4.357584667849303 |\n",
            "|[Yellow Onions, Strawberries]                                    |[Banana]                |0.5357142857142857|3.7536332219526702|\n",
            "|[Organic Cucumber, Organic Hass Avocado, Organic Strawberries]   |[Bag of Organic Bananas]|0.546875          |4.635330870478036 |\n",
            "|[Organic Navel Orange, Organic Hass Avocado]                     |[Bag of Organic Bananas]|0.5283018867924528|4.477904539027839 |\n",
            "|[Organic Raspberries, Organic Hass Avocado]                      |[Bag of Organic Bananas]|0.521099116781158 |4.416853618458589 |\n",
            "|[Organic D'Anjou Pears, Organic Hass Avocado]                    |[Bag of Organic Bananas]|0.5170454545454546|4.3824946411792345|\n",
            "|[Organic Navel Orange, Organic Raspberries]                      |[Bag of Organic Bananas]|0.5412186379928315|4.587387356098284 |\n",
            "|[Organic Whole String Cheese, Organic Hass Avocado]              |[Bag of Organic Bananas]|0.5314685314685315|4.504745125675359 |\n",
            "+-----------------------------------------------------------------+------------------------+------------------+------------------+\n",
            "\n"
          ],
          "name": "stdout"
        }
      ]
    },
    {
      "cell_type": "markdown",
      "metadata": {
        "id": "k9FOt5jRNFGt",
        "colab_type": "text"
      },
      "source": [
        "Now, for \n",
        "```minsupport=0.001```, \n",
        "visualize the top Frequent Itemsets and Association Rules.\n",
        "\n",
        "In addition for\n",
        "```minsupport=0.001```, \n",
        "calculate the \"interest\" of the Association Rules. \n",
        "\n",
        "(Hint: One way to do this by joining the Frequent Itemsets with the Association Rules)\n",
        "\n",
        "\n"
      ]
    },
    {
      "cell_type": "code",
      "metadata": {
        "id": "wEqWxzTCNS87",
        "colab_type": "code",
        "colab": {
          "base_uri": "https://localhost:8080/",
          "height": 34
        },
        "outputId": "cf008dbd-4475-41d3-edd5-4e0cd810eb46"
      },
      "source": [
        "orders_basket.count()"
      ],
      "execution_count": 130,
      "outputs": [
        {
          "output_type": "execute_result",
          "data": {
            "text/plain": [
              "131209"
            ]
          },
          "metadata": {
            "tags": []
          },
          "execution_count": 130
        }
      ]
    },
    {
      "cell_type": "code",
      "metadata": {
        "id": "UdGUnfcktXIo",
        "colab_type": "code",
        "colab": {}
      },
      "source": [
        "x.registerTempTable(\"frequent\")\n",
        "y.registerTempTable(\"association\")\n",
        "\n",
        "query = \"\"\"select r.antecedent, r.consequent, r.confidence, r.lift, (r.confidence - r.proportion) as interest\n",
        "            from(\n",
        "            select a.*, f.freq as freq, (f.freq/131209) as proportion\n",
        "            from association a join frequent f\n",
        "            on a.consequent = f.items) as r\"\"\"\n",
        "z = spark.sql(query)"
      ],
      "execution_count": 0,
      "outputs": []
    },
    {
      "cell_type": "code",
      "metadata": {
        "id": "layVhpqeImiT",
        "colab_type": "code",
        "colab": {
          "base_uri": "https://localhost:8080/",
          "height": 202
        },
        "outputId": "9861914d-a842-48c2-c3c8-0b45ec3589cd"
      },
      "source": [
        "z.orderBy(z['interest'].desc()).show(5, False)"
      ],
      "execution_count": 135,
      "outputs": [
        {
          "output_type": "stream",
          "text": [
            "+-----------------------------------------------------------------+------------------------+------------------+-----------------+-------------------+\n",
            "|antecedent                                                       |consequent              |confidence        |lift             |interest           |\n",
            "+-----------------------------------------------------------------+------------------------+------------------+-----------------+-------------------+\n",
            "|[Organic Raspberries, Organic Hass Avocado, Organic Strawberries]|[Bag of Organic Bananas]|0.5984251968503937|5.072272070642333|0.48044548509281615|\n",
            "|[Organic Cucumber, Organic Hass Avocado, Organic Strawberries]   |[Bag of Organic Bananas]|0.546875          |4.635330870478036|0.4288952882424224 |\n",
            "|[Organic Kiwi, Organic Hass Avocado]                             |[Bag of Organic Bananas]|0.5459770114942529|4.627719489738336|0.42799729973667533|\n",
            "|[Organic Navel Orange, Organic Raspberries]                      |[Bag of Organic Bananas]|0.5412186379928315|4.587387356098284|0.42323892623525394|\n",
            "|[Organic Whole String Cheese, Organic Hass Avocado]              |[Bag of Organic Bananas]|0.5314685314685315|4.504745125675359|0.41348881971095386|\n",
            "+-----------------------------------------------------------------+------------------------+------------------+-----------------+-------------------+\n",
            "only showing top 5 rows\n",
            "\n"
          ],
          "name": "stdout"
        }
      ]
    },
    {
      "cell_type": "code",
      "metadata": {
        "id": "JAdfOWEdI_d0",
        "colab_type": "code",
        "colab": {
          "base_uri": "https://localhost:8080/",
          "height": 34
        },
        "outputId": "33cbb723-a8f4-42ea-b373-cba20bc3cd5f"
      },
      "source": [
        "s = 'Organic Raspberries, Organic Hass Avocado, Organic Strawberries'  # Taken from the Q1 example\n",
        "print(', '.join(sorted(s.split(', '))))"
      ],
      "execution_count": 137,
      "outputs": [
        {
          "output_type": "stream",
          "text": [
            "Organic Hass Avocado, Organic Raspberries, Organic Strawberries\n"
          ],
          "name": "stdout"
        }
      ]
    },
    {
      "cell_type": "markdown",
      "metadata": {
        "colab_type": "text",
        "id": "2WSXPflUN76-"
      },
      "source": [
        "To conclude, go to Gradescope and read the remaining questions. We will ask you to inspect the resulting dataframes, and report a few results.\n",
        "\n",
        "Once you obtained the desired results, **submit your solution for this Colab**!"
      ]
    }
  ]
}