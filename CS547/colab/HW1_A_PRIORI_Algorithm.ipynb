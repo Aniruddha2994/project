{
  "nbformat": 4,
  "nbformat_minor": 0,
  "metadata": {
    "colab": {
      "name": "HW1_A-PRIORI_Algorithm.ipynb",
      "provenance": []
    },
    "kernelspec": {
      "name": "python3",
      "display_name": "Python 3"
    }
  },
  "cells": [
    {
      "cell_type": "markdown",
      "metadata": {
        "id": "URkToCRrRsD7",
        "colab_type": "text"
      },
      "source": [
        "# Product Reccomendation using A-PRIORI algorithm\n",
        "##### Aniruddha Dutta   1968324\n",
        "\n",
        "Data Used: browsing.txt\n",
        "\n",
        "Code: This code was prepared in google colab"
      ]
    },
    {
      "cell_type": "code",
      "metadata": {
        "id": "C5slIpHV1zTd",
        "colab_type": "code",
        "outputId": "5426256c-4f4f-4410-d942-d49ade99b40a",
        "colab": {
          "base_uri": "https://localhost:8080/",
          "height": 289
        }
      },
      "source": [
        "!pip install pyspark\n",
        "!pip install -U -q PyDrive\n",
        "!apt install openjdk-8-jdk-headless -qq\n",
        "import os\n",
        "os.environ[\"JAVA_HOME\"] = \"/usr/lib/jvm/java-8-openjdk-amd64\""
      ],
      "execution_count": 0,
      "outputs": [
        {
          "output_type": "stream",
          "text": [
            "Collecting pyspark\n",
            "\u001b[?25l  Downloading https://files.pythonhosted.org/packages/9a/5a/271c416c1c2185b6cb0151b29a91fff6fcaed80173c8584ff6d20e46b465/pyspark-2.4.5.tar.gz (217.8MB)\n",
            "\u001b[K     |████████████████████████████████| 217.8MB 63kB/s \n",
            "\u001b[?25hCollecting py4j==0.10.7\n",
            "\u001b[?25l  Downloading https://files.pythonhosted.org/packages/e3/53/c737818eb9a7dc32a7cd4f1396e787bd94200c3997c72c1dbe028587bd76/py4j-0.10.7-py2.py3-none-any.whl (197kB)\n",
            "\u001b[K     |████████████████████████████████| 204kB 41.9MB/s \n",
            "\u001b[?25hBuilding wheels for collected packages: pyspark\n",
            "  Building wheel for pyspark (setup.py) ... \u001b[?25l\u001b[?25hdone\n",
            "  Created wheel for pyspark: filename=pyspark-2.4.5-py2.py3-none-any.whl size=218257927 sha256=b8e1c96e379bc49675019c5179f935240526e53baf9ec904a02435309e8e65f8\n",
            "  Stored in directory: /root/.cache/pip/wheels/bf/db/04/61d66a5939364e756eb1c1be4ec5bdce6e04047fc7929a3c3c\n",
            "Successfully built pyspark\n",
            "Installing collected packages: py4j, pyspark\n",
            "Successfully installed py4j-0.10.7 pyspark-2.4.5\n",
            "openjdk-8-jdk-headless is already the newest version (8u242-b08-0ubuntu3~18.04).\n",
            "0 upgraded, 0 newly installed, 0 to remove and 25 not upgraded.\n"
          ],
          "name": "stdout"
        }
      ]
    },
    {
      "cell_type": "code",
      "metadata": {
        "id": "7pwjiXB415bC",
        "colab_type": "code",
        "colab": {}
      },
      "source": [
        "from pydrive.auth import GoogleAuth\n",
        "from pydrive.drive import GoogleDrive\n",
        "from google.colab import auth\n",
        "from oauth2client.client import GoogleCredentials\n",
        "\n",
        "# Authenticate and create the PyDrive client\n",
        "auth.authenticate_user()\n",
        "gauth = GoogleAuth()\n",
        "gauth.credentials = GoogleCredentials.get_application_default()\n",
        "drive = GoogleDrive(gauth)"
      ],
      "execution_count": 0,
      "outputs": []
    },
    {
      "cell_type": "code",
      "metadata": {
        "id": "UgKQFldf17p_",
        "colab_type": "code",
        "colab": {}
      },
      "source": [
        "# Let's import the libraries we will need\n",
        "import pandas as pd\n",
        "import numpy as np\n",
        "import matplotlib.pyplot as plt\n",
        "%matplotlib inline\n",
        "\n",
        "import pyspark\n",
        "from pyspark.sql import *\n",
        "from pyspark.sql.functions import *\n",
        "from pyspark import SparkContext, SparkConf\n",
        "import pyspark.sql.functions as f\n",
        "from tqdm import tqdm"
      ],
      "execution_count": 0,
      "outputs": []
    },
    {
      "cell_type": "code",
      "metadata": {
        "id": "Hxgu-8V819f3",
        "colab_type": "code",
        "colab": {}
      },
      "source": [
        "# create the session\n",
        "#conf = SparkConf().set(\"spark.ui.port\", \"4050\")\n",
        "conf = SparkConf().set('spark.executor.memory', '10g')\n",
        "\n",
        "# create the context\n",
        "sc = pyspark.SparkContext(conf=conf)\n",
        "spark = SparkSession.builder.getOrCreate()\n"
      ],
      "execution_count": 0,
      "outputs": []
    },
    {
      "cell_type": "code",
      "metadata": {
        "id": "3C_jit591_se",
        "colab_type": "code",
        "outputId": "72a17914-3892-4909-8ae9-adde7fd3eeef",
        "colab": {
          "base_uri": "https://localhost:8080/",
          "height": 420
        }
      },
      "source": [
        "!wget https://bin.equinox.io/c/4VmDzA7iaHb/ngrok-stable-linux-amd64.zip\n",
        "!unzip ngrok-stable-linux-amd64.zip\n",
        "get_ipython().system_raw('./ngrok http 4050 &')\n",
        "!curl -s http://localhost:4040/api/tunnels | python3 -c \\\n",
        "    \"import sys, json; print(json.load(sys.stdin)['tunnels'][0]['public_url'])\""
      ],
      "execution_count": 0,
      "outputs": [
        {
          "output_type": "stream",
          "text": [
            "--2020-04-17 04:27:04--  https://bin.equinox.io/c/4VmDzA7iaHb/ngrok-stable-linux-amd64.zip\n",
            "Resolving bin.equinox.io (bin.equinox.io)... 54.85.243.28, 3.220.9.69, 3.229.178.204, ...\n",
            "Connecting to bin.equinox.io (bin.equinox.io)|54.85.243.28|:443... connected.\n",
            "HTTP request sent, awaiting response... 200 OK\n",
            "Length: 13773305 (13M) [application/octet-stream]\n",
            "Saving to: ‘ngrok-stable-linux-amd64.zip’\n",
            "\n",
            "\r          ngrok-sta   0%[                    ]       0  --.-KB/s               \rngrok-stable-linux- 100%[===================>]  13.13M  85.1MB/s    in 0.2s    \n",
            "\n",
            "2020-04-17 04:27:04 (85.1 MB/s) - ‘ngrok-stable-linux-amd64.zip’ saved [13773305/13773305]\n",
            "\n",
            "Archive:  ngrok-stable-linux-amd64.zip\n",
            "  inflating: ngrok                   \n",
            "Traceback (most recent call last):\n",
            "  File \"<string>\", line 1, in <module>\n",
            "  File \"/usr/lib/python3.6/json/__init__.py\", line 299, in load\n",
            "    parse_constant=parse_constant, object_pairs_hook=object_pairs_hook, **kw)\n",
            "  File \"/usr/lib/python3.6/json/__init__.py\", line 354, in loads\n",
            "    return _default_decoder.decode(s)\n",
            "  File \"/usr/lib/python3.6/json/decoder.py\", line 339, in decode\n",
            "    obj, end = self.raw_decode(s, idx=_w(s, 0).end())\n",
            "  File \"/usr/lib/python3.6/json/decoder.py\", line 357, in raw_decode\n",
            "    raise JSONDecodeError(\"Expecting value\", s, err.value) from None\n",
            "json.decoder.JSONDecodeError: Expecting value: line 1 column 1 (char 0)\n"
          ],
          "name": "stdout"
        }
      ]
    },
    {
      "cell_type": "code",
      "metadata": {
        "id": "CcQXwDL62BlN",
        "colab_type": "code",
        "outputId": "738707d7-42fb-408d-b63d-8270e815ee6c",
        "colab": {
          "base_uri": "https://localhost:8080/",
          "height": 67
        }
      },
      "source": [
        "#loading data. I uploaded the txt file in colab and read it from there directly\n",
        "browsing = sc.textFile(\"browsing.txt\")\n",
        "browsing.take(3)"
      ],
      "execution_count": 0,
      "outputs": [
        {
          "output_type": "execute_result",
          "data": {
            "text/plain": [
              "['FRO11987 ELE17451 ELE89019 SNA90258 GRO99222 ',\n",
              " 'GRO99222 GRO12298 FRO12685 ELE91550 SNA11465 ELE26917 ELE52966 FRO90334 SNA30755 ELE17451 FRO84225 SNA80192 ',\n",
              " 'ELE17451 GRO73461 DAI22896 SNA99873 FRO86643 ']"
            ]
          },
          "metadata": {
            "tags": []
          },
          "execution_count": 7
        }
      ]
    },
    {
      "cell_type": "code",
      "metadata": {
        "id": "xAYMUGzX2Z4h",
        "colab_type": "code",
        "outputId": "c257fa68-a87e-4d0c-c5fb-8b9021217641",
        "colab": {
          "base_uri": "https://localhost:8080/",
          "height": 84
        }
      },
      "source": [
        "browsing_1 = browsing.map(lambda x:(x, 1))\n",
        "browsing_1.take(3)"
      ],
      "execution_count": 0,
      "outputs": [
        {
          "output_type": "execute_result",
          "data": {
            "text/plain": [
              "[('FRO11987 ELE17451 ELE89019 SNA90258 GRO99222 ', 1),\n",
              " ('GRO99222 GRO12298 FRO12685 ELE91550 SNA11465 ELE26917 ELE52966 FRO90334 SNA30755 ELE17451 FRO84225 SNA80192 ',\n",
              "  1),\n",
              " ('ELE17451 GRO73461 DAI22896 SNA99873 FRO86643 ', 1)]"
            ]
          },
          "metadata": {
            "tags": []
          },
          "execution_count": 8
        }
      ]
    },
    {
      "cell_type": "markdown",
      "metadata": {
        "id": "4wmESwePJ4h5",
        "colab_type": "text"
      },
      "source": [
        "####**First pass:** to get most frequent singletons with support atleast 100.\n",
        "I am trying to get one productIDs in a single row to be able to count their number of occurances for calculation of support."
      ]
    },
    {
      "cell_type": "code",
      "metadata": {
        "id": "CWx_7mf0MZ7M",
        "colab_type": "code",
        "outputId": "e7681676-508e-47ae-9232-a5a3bb62ed5c",
        "colab": {
          "base_uri": "https://localhost:8080/",
          "height": 101
        }
      },
      "source": [
        "c1_df = spark.createDataFrame((browsing_1), [\"products\",\"count\"])\n",
        "c1_df.head(5)"
      ],
      "execution_count": 0,
      "outputs": [
        {
          "output_type": "execute_result",
          "data": {
            "text/plain": [
              "[Row(products='FRO11987 ELE17451 ELE89019 SNA90258 GRO99222 ', count=1),\n",
              " Row(products='GRO99222 GRO12298 FRO12685 ELE91550 SNA11465 ELE26917 ELE52966 FRO90334 SNA30755 ELE17451 FRO84225 SNA80192 ', count=1),\n",
              " Row(products='ELE17451 GRO73461 DAI22896 SNA99873 FRO86643 ', count=1),\n",
              " Row(products='ELE17451 ELE37798 FRO86643 GRO56989 ELE23393 SNA11465 ', count=1),\n",
              " Row(products='ELE17451 SNA69641 FRO86643 FRO78087 SNA11465 GRO39357 ELE28573 ELE11375 DAI54444 ', count=1)]"
            ]
          },
          "metadata": {
            "tags": []
          },
          "execution_count": 9
        }
      ]
    },
    {
      "cell_type": "code",
      "metadata": {
        "id": "zHSRzHxiQ8lD",
        "colab_type": "code",
        "outputId": "3ff073df-82b3-41c9-8c54-761ee6b39b78",
        "colab": {
          "base_uri": "https://localhost:8080/",
          "height": 34
        }
      },
      "source": [
        "c1 = [str(row.products) for row in  c1_df.select('products').collect()]\n",
        "c1 = sc.parallelize(c1).flatMap(lambda x: x.split(' '))\n",
        "c1.take(3)"
      ],
      "execution_count": 0,
      "outputs": [
        {
          "output_type": "execute_result",
          "data": {
            "text/plain": [
              "['FRO11987', 'ELE17451', 'ELE89019']"
            ]
          },
          "metadata": {
            "tags": []
          },
          "execution_count": 10
        }
      ]
    },
    {
      "cell_type": "code",
      "metadata": {
        "id": "iwaQqNS_gDca",
        "colab_type": "code",
        "outputId": "796ef72d-708e-47aa-eb19-ba869a36018e",
        "colab": {
          "base_uri": "https://localhost:8080/",
          "height": 185
        }
      },
      "source": [
        "c1_rdd = c1.map(lambda x:(x,1))\n",
        "c1_rdd.take(10)"
      ],
      "execution_count": 0,
      "outputs": [
        {
          "output_type": "execute_result",
          "data": {
            "text/plain": [
              "[('FRO11987', 1),\n",
              " ('ELE17451', 1),\n",
              " ('ELE89019', 1),\n",
              " ('SNA90258', 1),\n",
              " ('GRO99222', 1),\n",
              " ('', 1),\n",
              " ('GRO99222', 1),\n",
              " ('GRO12298', 1),\n",
              " ('FRO12685', 1),\n",
              " ('ELE91550', 1)]"
            ]
          },
          "metadata": {
            "tags": []
          },
          "execution_count": 11
        }
      ]
    },
    {
      "cell_type": "code",
      "metadata": {
        "id": "nuPy-h6VkB_v",
        "colab_type": "code",
        "outputId": "8783ba38-5848-4023-8cbc-1d6ccae025cb",
        "colab": {
          "base_uri": "https://localhost:8080/",
          "height": 101
        }
      },
      "source": [
        "#adding all the 1s grouped by the corresponding productID to get their frequency\n",
        "t = c1_rdd.reduceByKey(lambda a, b: a+b).sortBy(lambda r: -r[1])\n",
        "t.take(5)"
      ],
      "execution_count": 0,
      "outputs": [
        {
          "output_type": "execute_result",
          "data": {
            "text/plain": [
              "[('', 31101),\n",
              " ('DAI62779', 6667),\n",
              " ('FRO40251', 3881),\n",
              " ('ELE17451', 3875),\n",
              " ('GRO73461', 3602)]"
            ]
          },
          "metadata": {
            "tags": []
          },
          "execution_count": 12
        }
      ]
    },
    {
      "cell_type": "code",
      "metadata": {
        "id": "I6-lBRnRkbbD",
        "colab_type": "code",
        "outputId": "fc6869bd-9cff-4089-ba20-3da742b52677",
        "colab": {
          "base_uri": "https://localhost:8080/",
          "height": 34
        }
      },
      "source": [
        "#Sanity check: Number of frequent singletons should be 647\n",
        "L1 = spark.createDataFrame((t), [\"ProductId\",\"Frequency\"])\n",
        "L1_singletons = L1.filter(L1.Frequency >= 100).filter(L1.ProductId != '')\n",
        "L1_singletons.count()"
      ],
      "execution_count": 0,
      "outputs": [
        {
          "output_type": "execute_result",
          "data": {
            "text/plain": [
              "647"
            ]
          },
          "metadata": {
            "tags": []
          },
          "execution_count": 13
        }
      ]
    },
    {
      "cell_type": "markdown",
      "metadata": {
        "id": "bQuS0c-MLDsv",
        "colab_type": "text"
      },
      "source": [
        "####**Second Pass:** Using the list of most frequent productIDs from the first pass, create pairs of productIDs and find the most frequent occuring pairs."
      ]
    },
    {
      "cell_type": "code",
      "metadata": {
        "id": "p1BZzofFk0Ov",
        "colab_type": "code",
        "outputId": "aa7fbaa1-5f08-4665-c390-1e90a8f53207",
        "colab": {
          "base_uri": "https://localhost:8080/",
          "height": 67
        }
      },
      "source": [
        "#2nd pass\n",
        "#Crossjoined the singletons table to create productID pairs\n",
        "L1_singletons.registerTempTable('singletons')\n",
        "\n",
        "query = \"\"\"SELECT s1.ProductId as p1, s2.ProductId as p2\n",
        "            FROM singletons s1 cross join singletons s2\"\"\"\n",
        "L1_crossjoined = spark.sql(query)\n",
        "L1_crossjoined.head(3)"
      ],
      "execution_count": 0,
      "outputs": [
        {
          "output_type": "execute_result",
          "data": {
            "text/plain": [
              "[Row(p1='DAI62779', p2='DAI62779'),\n",
              " Row(p1='DAI62779', p2='FRO40251'),\n",
              " Row(p1='DAI62779', p2='ELE17451')]"
            ]
          },
          "metadata": {
            "tags": []
          },
          "execution_count": 14
        }
      ]
    },
    {
      "cell_type": "code",
      "metadata": {
        "id": "fU44JdTZg0Dw",
        "colab_type": "code",
        "colab": {}
      },
      "source": [
        "#This function will iterate over every row of the crossjoined rdd to combine the seperate productIDs into one string\n",
        "def doubles(row):\n",
        "  p1 = row['p1']\n",
        "  p2 = row['p2']\n",
        "  basket_2 = p1 + ' ' + p2\n",
        "  return (basket_2,1)\n"
      ],
      "execution_count": 0,
      "outputs": []
    },
    {
      "cell_type": "code",
      "metadata": {
        "id": "Q5hHtS5ah3ui",
        "colab_type": "code",
        "outputId": "bd0d9c0a-e00d-42ed-d8f0-e82ad082036e",
        "colab": {
          "base_uri": "https://localhost:8080/",
          "height": 34
        }
      },
      "source": [
        "c2 = L1_crossjoined.rdd.map(lambda row: doubles(row))\n",
        "c2"
      ],
      "execution_count": 0,
      "outputs": [
        {
          "output_type": "execute_result",
          "data": {
            "text/plain": [
              "PythonRDD[59] at RDD at PythonRDD.scala:53"
            ]
          },
          "metadata": {
            "tags": []
          },
          "execution_count": 16
        }
      ]
    },
    {
      "cell_type": "code",
      "metadata": {
        "id": "AgD0URyH15QB",
        "colab_type": "code",
        "outputId": "1b11d8ab-328a-43f3-8b2e-cccc950bb274",
        "colab": {
          "base_uri": "https://localhost:8080/",
          "height": 34
        }
      },
      "source": [
        "c2.take(3)"
      ],
      "execution_count": 0,
      "outputs": [
        {
          "output_type": "execute_result",
          "data": {
            "text/plain": [
              "[('DAI62779 DAI62779', 1), ('DAI62779 FRO40251', 1), ('DAI62779 ELE17451', 1)]"
            ]
          },
          "metadata": {
            "tags": []
          },
          "execution_count": 17
        }
      ]
    },
    {
      "cell_type": "code",
      "metadata": {
        "id": "ocCAo-uh15At",
        "colab_type": "code",
        "colab": {}
      },
      "source": [
        "c2_df = spark.createDataFrame((c2), [\"product_pair\",\"count\"])"
      ],
      "execution_count": 0,
      "outputs": []
    },
    {
      "cell_type": "code",
      "metadata": {
        "id": "2UQtKbSu133S",
        "colab_type": "code",
        "colab": {}
      },
      "source": [
        "c1_df.registerTempTable(\"browsing\")\n",
        "c2_df.registerTempTable(\"pairs\")"
      ],
      "execution_count": 0,
      "outputs": []
    },
    {
      "cell_type": "code",
      "metadata": {
        "id": "vfLUiTm2wrqr",
        "colab_type": "code",
        "colab": {}
      },
      "source": [
        "#This function is used to calculate the support for {X,Y} by matching them in the browsing history data\n",
        "def second_pass(row):\n",
        "  pair = row['product_pair']\n",
        "  p1 = row['product_pair'].split(\" \")[0]\n",
        "  p2 = row['product_pair'].split(\" \")[1]\n",
        "  browsing_len = len(browsing_history)\n",
        "  count = 0\n",
        "\n",
        "  if(p1 != p2):\n",
        "    for i in range(browsing_len):\n",
        "      if((p1 in browsing_history[i]) and (p2 in browsing_history[i])):\n",
        "        count = count+1\n",
        "  else:\n",
        "    count = 0\n",
        "\n",
        "  \n",
        "\n",
        "  return (pair, int(count))"
      ],
      "execution_count": 0,
      "outputs": []
    },
    {
      "cell_type": "code",
      "metadata": {
        "id": "hOZIDeRE4Rri",
        "colab_type": "code",
        "outputId": "63775041-a671-4898-ff71-e41845cbab9e",
        "colab": {
          "base_uri": "https://localhost:8080/",
          "height": 34
        }
      },
      "source": [
        "browsing_history = browsing.map(lambda row: ((row))).collect()\n",
        "browsing_history[1]"
      ],
      "execution_count": 0,
      "outputs": [
        {
          "output_type": "execute_result",
          "data": {
            "text/plain": [
              "'GRO99222 GRO12298 FRO12685 ELE91550 SNA11465 ELE26917 ELE52966 FRO90334 SNA30755 ELE17451 FRO84225 SNA80192 '"
            ]
          },
          "metadata": {
            "tags": []
          },
          "execution_count": 21
        }
      ]
    },
    {
      "cell_type": "code",
      "metadata": {
        "id": "m-7-QI2FxAhZ",
        "colab_type": "code",
        "outputId": "dcbd9767-b553-46f2-f504-4a84a39b0691",
        "colab": {
          "base_uri": "https://localhost:8080/",
          "height": 67
        }
      },
      "source": [
        "l2 = c2_df.rdd.map(lambda row: second_pass(row))\n",
        "l2.take(3)"
      ],
      "execution_count": 0,
      "outputs": [
        {
          "output_type": "execute_result",
          "data": {
            "text/plain": [
              "[('DAI62779 DAI62779', 0),\n",
              " ('DAI62779 FRO40251', 1070),\n",
              " ('DAI62779 ELE17451', 1592)]"
            ]
          },
          "metadata": {
            "tags": []
          },
          "execution_count": 23
        }
      ]
    },
    {
      "cell_type": "code",
      "metadata": {
        "id": "WdwDysJSxBs6",
        "colab_type": "code",
        "colab": {}
      },
      "source": [
        "def funct(row):\n",
        "  pid_x = row[0].split(\" \")[0]\n",
        "  pid_y = row[0].split(\" \")[1]\n",
        "  s_xy = row[1]\n",
        "  return (pid_x, pid_y, int(s_xy))"
      ],
      "execution_count": 0,
      "outputs": []
    },
    {
      "cell_type": "code",
      "metadata": {
        "id": "4egU5-V57kSj",
        "colab_type": "code",
        "outputId": "a390f9f9-58b6-41d0-ffcc-5877340dbda6",
        "colab": {
          "base_uri": "https://localhost:8080/",
          "height": 34
        }
      },
      "source": [
        "l2_rdd = l2.map(lambda row:funct(row))\n",
        "l2_rdd.take(2)"
      ],
      "execution_count": 0,
      "outputs": [
        {
          "output_type": "execute_result",
          "data": {
            "text/plain": [
              "[('DAI62779', 'DAI62779', 0), ('DAI62779', 'FRO40251', 1070)]"
            ]
          },
          "metadata": {
            "tags": []
          },
          "execution_count": 25
        }
      ]
    },
    {
      "cell_type": "code",
      "metadata": {
        "id": "xMGSkShYWa8x",
        "colab_type": "code",
        "outputId": "51eb7b72-5426-4133-c7f3-432626e59209",
        "colab": {
          "base_uri": "https://localhost:8080/",
          "height": 202
        }
      },
      "source": [
        "#Keeping only those pairs whose suppport is >= 100\n",
        "l2_rdd_1 = l2_rdd.filter(lambda x:x[2]>=100) \n",
        "l2_withconf = spark.createDataFrame((l2_rdd_1), [\"X\", \"Y\", \"S_XY\"])\n",
        "l2_withconf.show(5)"
      ],
      "execution_count": 0,
      "outputs": [
        {
          "output_type": "stream",
          "text": [
            "+--------+--------+----+\n",
            "|       X|       Y|S_XY|\n",
            "+--------+--------+----+\n",
            "|DAI62779|FRO40251|1070|\n",
            "|DAI62779|ELE17451|1592|\n",
            "|DAI62779|GRO73461|1139|\n",
            "|DAI62779|SNA80324| 923|\n",
            "|DAI62779|ELE32164| 832|\n",
            "+--------+--------+----+\n",
            "only showing top 5 rows\n",
            "\n"
          ],
          "name": "stdout"
        }
      ]
    },
    {
      "cell_type": "markdown",
      "metadata": {
        "id": "igQ9uvHeNC4_",
        "colab_type": "text"
      },
      "source": [
        "Calculate the confidence measure for the most frequesnt association rules"
      ]
    },
    {
      "cell_type": "code",
      "metadata": {
        "id": "YeddtWaMovFc",
        "colab_type": "code",
        "outputId": "0321cc19-21b6-454a-fa58-9c78f8931710",
        "colab": {
          "base_uri": "https://localhost:8080/",
          "height": 168
        }
      },
      "source": [
        "\n",
        "l2_withconf.registerTempTable(\"l2_rdd\")\n",
        "\n",
        "query = \"\"\"select l22.*, s2.ProductId as Y_1,s2.Frequency as S_Y \n",
        "            from(\n",
        "            select l2.X as X, l2.Y as Y, l2.S_XY as S_XY, s1.ProductId as X_1, s1.Frequency as S_X\n",
        "            from l2_rdd l2  left join singletons s1\n",
        "            on l2.X = s1.ProductId) as l22\n",
        "            left join singletons s2\n",
        "            on l22.Y = s2.ProductId\"\"\"\n",
        "l2_forconfcalculation = spark.sql(query)\n",
        "l2_forconfcalculation.show(3)"
      ],
      "execution_count": 0,
      "outputs": [
        {
          "output_type": "stream",
          "text": [
            "+--------+--------+----+--------+----+--------+----+\n",
            "|       X|       Y|S_XY|     X_1| S_X|     Y_1| S_Y|\n",
            "+--------+--------+----+--------+----+--------+----+\n",
            "|GRO71621|SNA96271| 105|GRO71621|1920|SNA96271|1295|\n",
            "|FRO40251|SNA96271| 227|FRO40251|3881|SNA96271|1295|\n",
            "|GRO38983|SNA96271| 102|GRO38983| 839|SNA96271|1295|\n",
            "+--------+--------+----+--------+----+--------+----+\n",
            "only showing top 3 rows\n",
            "\n"
          ],
          "name": "stdout"
        }
      ]
    },
    {
      "cell_type": "code",
      "metadata": {
        "id": "y9_O3l1lo7_L",
        "colab_type": "code",
        "colab": {}
      },
      "source": [
        "def conf_calc_xy(row):\n",
        "  pid_x = row['X']\n",
        "  pid_y = row['Y']\n",
        "  conf_xy = float(row['S_XY'])/float(row['S_X'])\n",
        "  xy = pid_x + \"->\" + pid_y\n",
        "  return (pid_x, pid_y, xy, float(conf_xy))"
      ],
      "execution_count": 0,
      "outputs": []
    },
    {
      "cell_type": "code",
      "metadata": {
        "id": "gEI-P_4HaLNa",
        "colab_type": "code",
        "colab": {}
      },
      "source": [
        "def conf_calc_yx(row):\n",
        "  pid_x = row['X']\n",
        "  pid_y = row['Y']\n",
        "  conf_yx = float(row['S_XY'])/float(row['S_Y'])\n",
        "  yx = pid_y + \"->\" + pid_x\n",
        "  return (pid_y, pid_x, yx, float(conf_yx))"
      ],
      "execution_count": 0,
      "outputs": []
    },
    {
      "cell_type": "code",
      "metadata": {
        "id": "5NIikzFbtaHb",
        "colab_type": "code",
        "colab": {}
      },
      "source": [
        "#Calculate confidence for {X -> Y} and {Y->X} rules\n",
        "l2_results_xy = l2_forconfcalculation.rdd.map(lambda row: conf_calc_xy(row))\n",
        "l2_results_yx = l2_forconfcalculation.rdd.map(lambda row: conf_calc_yx(row))"
      ],
      "execution_count": 0,
      "outputs": []
    },
    {
      "cell_type": "code",
      "metadata": {
        "id": "SJ0njGZGtenC",
        "colab_type": "code",
        "outputId": "4e85a954-b42b-4ef9-fa87-b2d52393a0d5",
        "colab": {
          "base_uri": "https://localhost:8080/",
          "height": 101
        }
      },
      "source": [
        "l2_results = l2_results_xy.union(l2_results_yx)\n",
        "l2_results.take(5)"
      ],
      "execution_count": 0,
      "outputs": [
        {
          "output_type": "execute_result",
          "data": {
            "text/plain": [
              "[('GRO71621', 'SNA96271', 'GRO71621->SNA96271', 0.0546875),\n",
              " ('FRO40251', 'SNA96271', 'FRO40251->SNA96271', 0.05849007987632054),\n",
              " ('GRO38983', 'SNA96271', 'GRO38983->SNA96271', 0.12157330154946365),\n",
              " ('ELE32164', 'SNA96271', 'ELE32164->SNA96271', 0.035426166257453526),\n",
              " ('GRO73461', 'SNA96271', 'GRO73461->SNA96271', 0.06246529705719045)]"
            ]
          },
          "metadata": {
            "tags": []
          },
          "execution_count": 31
        }
      ]
    },
    {
      "cell_type": "code",
      "metadata": {
        "id": "xp-NkwqNZKNS",
        "colab_type": "code",
        "outputId": "c86ab5d5-0504-482b-ec47-d255349470d1",
        "colab": {
          "base_uri": "https://localhost:8080/",
          "height": 101
        }
      },
      "source": [
        "L2_rules = l2_results.sortBy(lambda r: -r[3])\n",
        "L2_rules.take(5)\n",
        "#The data has duplicates"
      ],
      "execution_count": 0,
      "outputs": [
        {
          "output_type": "execute_result",
          "data": {
            "text/plain": [
              "[('DAI93865', 'FRO40251', 'DAI93865->FRO40251', 1.0),\n",
              " ('DAI93865', 'FRO40251', 'DAI93865->FRO40251', 1.0),\n",
              " ('GRO85051', 'FRO40251', 'GRO85051->FRO40251', 0.999176276771005),\n",
              " ('GRO85051', 'FRO40251', 'GRO85051->FRO40251', 0.999176276771005),\n",
              " ('GRO38636', 'FRO40251', 'GRO38636->FRO40251', 0.9906542056074766)]"
            ]
          },
          "metadata": {
            "tags": []
          },
          "execution_count": 32
        }
      ]
    },
    {
      "cell_type": "code",
      "metadata": {
        "id": "IdYfap6aNDcU",
        "colab_type": "code",
        "outputId": "bd212717-aa86-4e4c-8aa5-51611d3bb200",
        "colab": {
          "base_uri": "https://localhost:8080/",
          "height": 101
        }
      },
      "source": [
        "L2_rules = L2_rules.distinct() #Removing duplicates\n",
        "L2_rules.sortBy(lambda r: -r[3]).take(5)\n",
        "\n",
        "#Sanity Check: all the top-5 associatio rules have confidence score > 0.985"
      ],
      "execution_count": 0,
      "outputs": [
        {
          "output_type": "execute_result",
          "data": {
            "text/plain": [
              "[('DAI93865', 'FRO40251', 'DAI93865->FRO40251', 1.0),\n",
              " ('GRO85051', 'FRO40251', 'GRO85051->FRO40251', 0.999176276771005),\n",
              " ('GRO38636', 'FRO40251', 'GRO38636->FRO40251', 0.9906542056074766),\n",
              " ('ELE12951', 'FRO40251', 'ELE12951->FRO40251', 0.9905660377358491),\n",
              " ('DAI88079', 'FRO40251', 'DAI88079->FRO40251', 0.9867256637168141)]"
            ]
          },
          "metadata": {
            "tags": []
          },
          "execution_count": 33
        }
      ]
    },
    {
      "cell_type": "markdown",
      "metadata": {
        "id": "oXzEv0-bObKw",
        "colab_type": "text"
      },
      "source": [
        "####**Third Pass:** Using the most frequent doubles, form triplets and identify the most frequent itemset"
      ]
    },
    {
      "cell_type": "code",
      "metadata": {
        "id": "MqIjJnJTZSqg",
        "colab_type": "code",
        "colab": {}
      },
      "source": [
        "#Make a list of productIDs from the second_pass results\n",
        "p_list_1 = L2_rules.map(lambda x:x[0]).collect()\n",
        "p_list_2 = L2_rules.map(lambda x:x[1]).collect()\n",
        "p_list = p_list_1 + p_list_2"
      ],
      "execution_count": 0,
      "outputs": []
    },
    {
      "cell_type": "code",
      "metadata": {
        "id": "J48uOJ1JoeCK",
        "colab_type": "code",
        "outputId": "64dc4f39-bed3-49f2-8163-03e2ca27dff5",
        "colab": {
          "base_uri": "https://localhost:8080/",
          "height": 34
        }
      },
      "source": [
        "p_list = list(dict.fromkeys(p_list))\n",
        "len(p_list)"
      ],
      "execution_count": 0,
      "outputs": [
        {
          "output_type": "execute_result",
          "data": {
            "text/plain": [
              "222"
            ]
          },
          "metadata": {
            "tags": []
          },
          "execution_count": 35
        }
      ]
    },
    {
      "cell_type": "code",
      "metadata": {
        "id": "J1wBIwcQJWQx",
        "colab_type": "code",
        "outputId": "906631a0-93b9-4642-80ef-e9eb20925b50",
        "colab": {
          "base_uri": "https://localhost:8080/",
          "height": 34
        }
      },
      "source": [
        "p_list = sc.parallelize(p_list).map(lambda x:(x,1))\n",
        "p_list"
      ],
      "execution_count": 0,
      "outputs": [
        {
          "output_type": "execute_result",
          "data": {
            "text/plain": [
              "PythonRDD[146] at RDD at PythonRDD.scala:53"
            ]
          },
          "metadata": {
            "tags": []
          },
          "execution_count": 36
        }
      ]
    },
    {
      "cell_type": "code",
      "metadata": {
        "id": "Ow6flF-xPWFo",
        "colab_type": "code",
        "outputId": "d0238f40-64b1-48d1-e51c-23ed5ea94aac",
        "colab": {
          "base_uri": "https://localhost:8080/",
          "height": 34
        }
      },
      "source": [
        "p_list.take(2)"
      ],
      "execution_count": 0,
      "outputs": [
        {
          "output_type": "execute_result",
          "data": {
            "text/plain": [
              "[('SNA40784', 1), ('ELE91337', 1)]"
            ]
          },
          "metadata": {
            "tags": []
          },
          "execution_count": 37
        }
      ]
    },
    {
      "cell_type": "code",
      "metadata": {
        "id": "wJJseLI4KuBN",
        "colab_type": "code",
        "colab": {}
      },
      "source": [
        "p_list_df = spark.createDataFrame((p_list), [\"product_id\"])"
      ],
      "execution_count": 0,
      "outputs": []
    },
    {
      "cell_type": "code",
      "metadata": {
        "id": "b3PR19QrSzpT",
        "colab_type": "code",
        "outputId": "c7b8e2b8-b108-4e70-e874-84a51d2b5043",
        "colab": {
          "base_uri": "https://localhost:8080/",
          "height": 168
        }
      },
      "source": [
        "L2_rules_df = spark.createDataFrame((L2_rules), [\"X\",\"Y\",\"XY\",\"conf\"] )\n",
        "L2_rules_df.show(3)"
      ],
      "execution_count": 0,
      "outputs": [
        {
          "output_type": "stream",
          "text": [
            "+--------+--------+------------------+-------------------+\n",
            "|       X|       Y|                XY|               conf|\n",
            "+--------+--------+------------------+-------------------+\n",
            "|SNA40784|ELE17451|SNA40784->ELE17451| 0.1223529411764706|\n",
            "|ELE91337|GRO46854|ELE91337->GRO46854|0.11404189294026378|\n",
            "|ELE66600|FRO31317|ELE66600->FRO31317|0.07238762405137186|\n",
            "+--------+--------+------------------+-------------------+\n",
            "only showing top 3 rows\n",
            "\n"
          ],
          "name": "stdout"
        }
      ]
    },
    {
      "cell_type": "code",
      "metadata": {
        "id": "M-FslAaOOyv1",
        "colab_type": "code",
        "outputId": "b3d0a070-f39e-44de-a3d1-cc7e9140c906",
        "colab": {
          "base_uri": "https://localhost:8080/",
          "height": 202
        }
      },
      "source": [
        "p_list_df.registerTempTable(\"p_list\")\n",
        "L2_rules_df.registerTempTable(\"l2_pairs\")\n",
        "l2_forconfcalculation.registerTempTable(\"l2_forconfcalculation\")\n",
        "\n",
        "#Create triplets from the productIDs found to be frequent in the second pass\n",
        "query = \"\"\"Select rrr.*, s2.S_XY as S_ZX\n",
        "            from(\n",
        "            select rr.*, s1.S_XY as S_YZ\n",
        "            from(\n",
        "            select r.*, s.S_XY as S_XY\n",
        "            from(\n",
        "            select l2.X as X, l2.Y as Y, p.product_id as Z\n",
        "            from l2_pairs as l2 cross join p_list as p) as r\n",
        "            join l2_forconfcalculation as s\n",
        "            on r.X = s.X and r.Y = s.Y) as rr\n",
        "            join l2_forconfcalculation as s1\n",
        "            on rr.Y = s1.Y and rr.Z = s1.X) as rrr\n",
        "            join l2_forconfcalculation as s2\n",
        "            on rrr.Z = s2.Y and rrr.X = s2.X\"\"\"\n",
        "\n",
        "c3 = spark.sql(query)\n",
        "c3.show(5)"
      ],
      "execution_count": 0,
      "outputs": [
        {
          "output_type": "stream",
          "text": [
            "+--------+--------+--------+----+----+----+\n",
            "|       X|       Y|       Z|S_XY|S_YZ|S_ZX|\n",
            "+--------+--------+--------+----+----+----+\n",
            "|ELE92920|ELE26917|DAI75645| 106| 278| 164|\n",
            "|ELE92920|GRO73461|DAI75645| 108| 712| 164|\n",
            "|ELE92920|SNA80324|DAI75645| 118|1130| 164|\n",
            "|ELE92920|DAI85309|DAI75645| 201| 212| 164|\n",
            "|ELE92920|GRO46854|DAI75645| 101| 190| 164|\n",
            "+--------+--------+--------+----+----+----+\n",
            "only showing top 5 rows\n",
            "\n"
          ],
          "name": "stdout"
        }
      ]
    },
    {
      "cell_type": "code",
      "metadata": {
        "id": "Vk5wdsEnRKi7",
        "colab_type": "code",
        "colab": {}
      },
      "source": [
        "#This function will compute the support for the {X,Y,Z} itemsets.\n",
        "def third_pass(row):\n",
        "  \n",
        "  p1 = row['X']\n",
        "  p2 = row['Y']\n",
        "  p3 = row['Z']\n",
        "  browsing_len = len(browsing_history)\n",
        "  count = 0\n",
        "\n",
        "  if((p1 != p3) and (p2 != p3)):\n",
        "    for i in range(browsing_len):\n",
        "      if((p1 in browsing_history[i]) and (p2 in browsing_history[i]) and (p3 in browsing_history[i])):\n",
        "        count = count+1\n",
        "  else:\n",
        "    count = 0\n",
        "\n",
        "  return (p1, p2, p3, int(count), int(row['S_XY']), int(row['S_YZ']), int(row['S_ZX']))"
      ],
      "execution_count": 0,
      "outputs": []
    },
    {
      "cell_type": "code",
      "metadata": {
        "id": "k6NZ8l2EYKGi",
        "colab_type": "code",
        "outputId": "eaf11850-ff6d-443f-fe2f-b7698ad4d8ff",
        "colab": {
          "base_uri": "https://localhost:8080/",
          "height": 67
        }
      },
      "source": [
        "c3_triples = c3.rdd.map(lambda row: third_pass(row))\n",
        "l3 = c3_triples.filter(lambda x:x[3]>=100)\n",
        "l3_rdd = l3.distinct()\n",
        "l3_rdd.take(3)"
      ],
      "execution_count": 0,
      "outputs": [
        {
          "output_type": "execute_result",
          "data": {
            "text/plain": [
              "[('ELE20847', 'DAI62779', 'DAI75645', 115, 275, 882, 306),\n",
              " ('ELE17451', 'DAI62779', 'DAI91290', 109, 1592, 353, 219),\n",
              " ('GRO71621', 'DAI62779', 'GRO73461', 153, 595, 1139, 305)]"
            ]
          },
          "metadata": {
            "tags": []
          },
          "execution_count": 47
        }
      ]
    },
    {
      "cell_type": "code",
      "metadata": {
        "id": "yAOxLw7uaO4D",
        "colab_type": "code",
        "colab": {}
      },
      "source": [
        "def conf_cal_xyz(row):\n",
        "  x = row[0]\n",
        "  y = row[1]\n",
        "  z = row[2]\n",
        "  rule = x+\" \"+y+\"->\"+z\n",
        "  conf = float(row[3])/float(row[4])\n",
        "  return (x, y, z, rule,  float(conf))"
      ],
      "execution_count": 0,
      "outputs": []
    },
    {
      "cell_type": "code",
      "metadata": {
        "id": "WS2OvcWqGj0i",
        "colab_type": "code",
        "colab": {}
      },
      "source": [
        "def conf_cal_yzx(row):\n",
        "  x = row[0]\n",
        "  y = row[1]\n",
        "  z = row[2]\n",
        "  rule = y+\" \"+z+\"->\"+x\n",
        "  conf = float(row[3])/float(row[5])\n",
        "  return (y, z, x, rule,  float(conf))"
      ],
      "execution_count": 0,
      "outputs": []
    },
    {
      "cell_type": "code",
      "metadata": {
        "id": "uAQUEZSjGz1E",
        "colab_type": "code",
        "colab": {}
      },
      "source": [
        "def conf_cal_zxy(row):\n",
        "  x = row[0]\n",
        "  y = row[1]\n",
        "  z = row[2]\n",
        "  rule = z+\" \"+x+\"->\"+y\n",
        "  conf = float(row[3])/float(row[6])\n",
        "  return (z, x, y, rule,  float(conf))"
      ],
      "execution_count": 0,
      "outputs": []
    },
    {
      "cell_type": "code",
      "metadata": {
        "id": "n8CsLBykHAyA",
        "colab_type": "code",
        "outputId": "995cb5f4-212b-46a1-cabe-ac0522abaae8",
        "colab": {
          "base_uri": "https://localhost:8080/",
          "height": 101
        }
      },
      "source": [
        "#Calculate the confidence for all the association rules: {X,y -> Z}, {Y,Z -> X}, {Z,X -> Y}\n",
        "l3_results_xyz = l3_rdd.map(lambda row: conf_cal_xyz(row))\n",
        "l3_results_yzx = l3_rdd.map(lambda row: conf_cal_yzx(row))\n",
        "l3_results_zxy = l3_rdd.map(lambda row: conf_cal_zxy(row))\n",
        "\n",
        "l3_results = l3_results_xyz.union(l3_results_yzx)\n",
        "l3_results = l3_results.union(l3_results_zxy)\n",
        "l3_results = l3_results.distinct()\n",
        "l3_results.sortBy(lambda r: -r[4]).take(5)"
      ],
      "execution_count": 0,
      "outputs": [
        {
          "output_type": "execute_result",
          "data": {
            "text/plain": [
              "[('FRO53271', 'GRO85051', 'FRO40251', 'FRO53271 GRO85051->FRO40251', 1.0),\n",
              " ('GRO85051', 'SNA45677', 'FRO40251', 'GRO85051 SNA45677->FRO40251', 1.0),\n",
              " ('GRO85051', 'GRO21487', 'FRO40251', 'GRO85051 GRO21487->FRO40251', 1.0),\n",
              " ('ELE17451', 'GRO85051', 'FRO40251', 'ELE17451 GRO85051->FRO40251', 1.0),\n",
              " ('ELE20847', 'FRO92469', 'FRO40251', 'ELE20847 FRO92469->FRO40251', 1.0)]"
            ]
          },
          "metadata": {
            "tags": []
          },
          "execution_count": 52
        }
      ]
    }
  ]
}