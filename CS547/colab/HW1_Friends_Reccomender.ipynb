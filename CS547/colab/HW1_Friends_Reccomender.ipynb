{
  "nbformat": 4,
  "nbformat_minor": 0,
  "metadata": {
    "colab": {
      "name": "HW1_Friends_Reccomender.ipynb",
      "provenance": [],
      "collapsed_sections": []
    },
    "kernelspec": {
      "name": "python3",
      "display_name": "Python 3"
    }
  },
  "cells": [
    {
      "cell_type": "code",
      "metadata": {
        "id": "owuj1hCKvbN0",
        "colab_type": "code",
        "outputId": "80da7da8-bc5a-402f-f586-a1a0096865ce",
        "colab": {
          "base_uri": "https://localhost:8080/",
          "height": 289
        }
      },
      "source": [
        "!pip install pyspark\n",
        "!pip install -U -q PyDrive\n",
        "!apt install openjdk-8-jdk-headless -qq\n",
        "import os\n",
        "os.environ[\"JAVA_HOME\"] = \"/usr/lib/jvm/java-8-openjdk-amd64\""
      ],
      "execution_count": 1,
      "outputs": [
        {
          "output_type": "stream",
          "text": [
            "Collecting pyspark\n",
            "\u001b[?25l  Downloading https://files.pythonhosted.org/packages/9a/5a/271c416c1c2185b6cb0151b29a91fff6fcaed80173c8584ff6d20e46b465/pyspark-2.4.5.tar.gz (217.8MB)\n",
            "\u001b[K     |████████████████████████████████| 217.8MB 62kB/s \n",
            "\u001b[?25hCollecting py4j==0.10.7\n",
            "\u001b[?25l  Downloading https://files.pythonhosted.org/packages/e3/53/c737818eb9a7dc32a7cd4f1396e787bd94200c3997c72c1dbe028587bd76/py4j-0.10.7-py2.py3-none-any.whl (197kB)\n",
            "\u001b[K     |████████████████████████████████| 204kB 45.9MB/s \n",
            "\u001b[?25hBuilding wheels for collected packages: pyspark\n",
            "  Building wheel for pyspark (setup.py) ... \u001b[?25l\u001b[?25hdone\n",
            "  Created wheel for pyspark: filename=pyspark-2.4.5-py2.py3-none-any.whl size=218257927 sha256=e9f34650e93090563f01f5f4463694f77d0cfcc5269fa5eecc2adc5b45df15d3\n",
            "  Stored in directory: /root/.cache/pip/wheels/bf/db/04/61d66a5939364e756eb1c1be4ec5bdce6e04047fc7929a3c3c\n",
            "Successfully built pyspark\n",
            "Installing collected packages: py4j, pyspark\n",
            "Successfully installed py4j-0.10.7 pyspark-2.4.5\n",
            "openjdk-8-jdk-headless is already the newest version (8u242-b08-0ubuntu3~18.04).\n",
            "0 upgraded, 0 newly installed, 0 to remove and 25 not upgraded.\n"
          ],
          "name": "stdout"
        }
      ]
    },
    {
      "cell_type": "code",
      "metadata": {
        "id": "SedWE69WviyR",
        "colab_type": "code",
        "colab": {}
      },
      "source": [
        "from pydrive.auth import GoogleAuth\n",
        "from pydrive.drive import GoogleDrive\n",
        "from google.colab import auth\n",
        "from oauth2client.client import GoogleCredentials\n",
        "\n",
        "# Authenticate and create the PyDrive client\n",
        "auth.authenticate_user()\n",
        "gauth = GoogleAuth()\n",
        "gauth.credentials = GoogleCredentials.get_application_default()\n",
        "drive = GoogleDrive(gauth)"
      ],
      "execution_count": 0,
      "outputs": []
    },
    {
      "cell_type": "code",
      "metadata": {
        "id": "Eo96aKNQvx09",
        "colab_type": "code",
        "colab": {}
      },
      "source": [
        "# Let's import the libraries we will need\n",
        "import pandas as pd\n",
        "import numpy as np\n",
        "import matplotlib.pyplot as plt\n",
        "%matplotlib inline\n",
        "\n",
        "import pyspark\n",
        "from pyspark.sql import *\n",
        "from pyspark.sql.functions import *\n",
        "from pyspark import SparkContext, SparkConf\n",
        "import pyspark.sql.functions as f\n",
        "from tqdm import tqdm"
      ],
      "execution_count": 0,
      "outputs": []
    },
    {
      "cell_type": "code",
      "metadata": {
        "id": "WQV7QHWHxw3p",
        "colab_type": "code",
        "colab": {}
      },
      "source": [
        "# create the session\n",
        "#conf = SparkConf().set(\"spark.ui.port\", \"4050\")\n",
        "conf = SparkConf().set('spark.executor.memory', '10g')\n",
        "\n",
        "# create the context\n",
        "sc = pyspark.SparkContext(conf=conf)\n",
        "spark = SparkSession.builder.getOrCreate()\n"
      ],
      "execution_count": 0,
      "outputs": []
    },
    {
      "cell_type": "code",
      "metadata": {
        "id": "TrAELySuxzva",
        "colab_type": "code",
        "outputId": "18940306-6af6-4799-ede5-ff7b88a62cd4",
        "colab": {
          "base_uri": "https://localhost:8080/",
          "height": 420
        }
      },
      "source": [
        "!wget https://bin.equinox.io/c/4VmDzA7iaHb/ngrok-stable-linux-amd64.zip\n",
        "!unzip ngrok-stable-linux-amd64.zip\n",
        "get_ipython().system_raw('./ngrok http 4050 &')\n",
        "!curl -s http://localhost:4040/api/tunnels | python3 -c \\\n",
        "    \"import sys, json; print(json.load(sys.stdin)['tunnels'][0]['public_url'])\""
      ],
      "execution_count": 5,
      "outputs": [
        {
          "output_type": "stream",
          "text": [
            "--2020-04-19 03:55:10--  https://bin.equinox.io/c/4VmDzA7iaHb/ngrok-stable-linux-amd64.zip\n",
            "Resolving bin.equinox.io (bin.equinox.io)... 3.220.9.69, 52.5.232.178, 52.207.7.190, ...\n",
            "Connecting to bin.equinox.io (bin.equinox.io)|3.220.9.69|:443... connected.\n",
            "HTTP request sent, awaiting response... 200 OK\n",
            "Length: 13773305 (13M) [application/octet-stream]\n",
            "Saving to: ‘ngrok-stable-linux-amd64.zip’\n",
            "\n",
            "ngrok-stable-linux- 100%[===================>]  13.13M  18.4MB/s    in 0.7s    \n",
            "\n",
            "2020-04-19 03:55:11 (18.4 MB/s) - ‘ngrok-stable-linux-amd64.zip’ saved [13773305/13773305]\n",
            "\n",
            "Archive:  ngrok-stable-linux-amd64.zip\n",
            "  inflating: ngrok                   \n",
            "Traceback (most recent call last):\n",
            "  File \"<string>\", line 1, in <module>\n",
            "  File \"/usr/lib/python3.6/json/__init__.py\", line 299, in load\n",
            "    parse_constant=parse_constant, object_pairs_hook=object_pairs_hook, **kw)\n",
            "  File \"/usr/lib/python3.6/json/__init__.py\", line 354, in loads\n",
            "    return _default_decoder.decode(s)\n",
            "  File \"/usr/lib/python3.6/json/decoder.py\", line 339, in decode\n",
            "    obj, end = self.raw_decode(s, idx=_w(s, 0).end())\n",
            "  File \"/usr/lib/python3.6/json/decoder.py\", line 357, in raw_decode\n",
            "    raise JSONDecodeError(\"Expecting value\", s, err.value) from None\n",
            "json.decoder.JSONDecodeError: Expecting value: line 1 column 1 (char 0)\n"
          ],
          "name": "stdout"
        }
      ]
    },
    {
      "cell_type": "markdown",
      "metadata": {
        "id": "yb2PUFdHyGTP",
        "colab_type": "text"
      },
      "source": [
        "Loading Dataset"
      ]
    },
    {
      "cell_type": "code",
      "metadata": {
        "id": "bDv11_aYx5Ij",
        "colab_type": "code",
        "colab": {}
      },
      "source": [
        "#loading data: I uploaded the txt file in colab and read it from there directly\n",
        "soc = sc.textFile(\"soc-LiveJournal1Adj.txt\")"
      ],
      "execution_count": 0,
      "outputs": []
    },
    {
      "cell_type": "code",
      "metadata": {
        "id": "E-qZrZS9yReZ",
        "colab_type": "code",
        "outputId": "5483737f-1f21-4c71-d81e-fd47ee6f5a43",
        "colab": {
          "base_uri": "https://localhost:8080/",
          "height": 87
        }
      },
      "source": [
        "soc.take(3)"
      ],
      "execution_count": 7,
      "outputs": [
        {
          "output_type": "execute_result",
          "data": {
            "text/plain": [
              "['0\\t1,2,3,4,5,6,7,8,9,10,11,12,13,14,15,16,17,18,19,20,21,22,23,24,25,26,27,28,29,30,31,32,33,34,35,36,37,38,39,40,41,42,43,44,45,46,47,48,49,50,51,52,53,54,55,56,57,58,59,60,61,62,63,64,65,66,67,68,69,70,71,72,73,74,75,76,77,78,79,80,81,82,83,84,85,86,87,88,89,90,91,92,93,94',\n",
              " '1\\t0,5,20,135,2409,8715,8932,10623,12347,12846,13840,13845,14005,20075,21556,22939,23520,28193,29724,29791,29826,30691,31232,31435,32317,32489,34394,35589,35605,35606,35613,35633,35648,35678,38737,43447,44846,44887,49226,49985,623,629,4999,6156,13912,14248,15190,17636,19217,20074,27536,29481,29726,29767,30257,33060,34250,34280,34392,34406,34418,34420,34439,34450,34651,45054,49592',\n",
              " '2\\t0,117,135,1220,2755,12453,24539,24714,41456,45046,49927,6893,13795,16659,32828,41878']"
            ]
          },
          "metadata": {
            "tags": []
          },
          "execution_count": 7
        }
      ]
    },
    {
      "cell_type": "code",
      "metadata": {
        "id": "vbLgEodryX14",
        "colab_type": "code",
        "colab": {
          "base_uri": "https://localhost:8080/",
          "height": 188
        },
        "outputId": "f258b46a-0cb0-44d8-fdee-1b0a544d04fe"
      },
      "source": [
        "soc_1 = soc.map(lambda x: (x.split('\\t')[0], x.split('\\t')[1]))\n",
        "soc_1.take(5)"
      ],
      "execution_count": 8,
      "outputs": [
        {
          "output_type": "execute_result",
          "data": {
            "text/plain": [
              "[('0',\n",
              "  '1,2,3,4,5,6,7,8,9,10,11,12,13,14,15,16,17,18,19,20,21,22,23,24,25,26,27,28,29,30,31,32,33,34,35,36,37,38,39,40,41,42,43,44,45,46,47,48,49,50,51,52,53,54,55,56,57,58,59,60,61,62,63,64,65,66,67,68,69,70,71,72,73,74,75,76,77,78,79,80,81,82,83,84,85,86,87,88,89,90,91,92,93,94'),\n",
              " ('1',\n",
              "  '0,5,20,135,2409,8715,8932,10623,12347,12846,13840,13845,14005,20075,21556,22939,23520,28193,29724,29791,29826,30691,31232,31435,32317,32489,34394,35589,35605,35606,35613,35633,35648,35678,38737,43447,44846,44887,49226,49985,623,629,4999,6156,13912,14248,15190,17636,19217,20074,27536,29481,29726,29767,30257,33060,34250,34280,34392,34406,34418,34420,34439,34450,34651,45054,49592'),\n",
              " ('2',\n",
              "  '0,117,135,1220,2755,12453,24539,24714,41456,45046,49927,6893,13795,16659,32828,41878'),\n",
              " ('3', '0,12,41,55,1532,12636,13185,27552,38737'),\n",
              " ('4',\n",
              "  '0,8,14,15,18,27,72,80,15326,19068,19079,24596,42697,46126,74,77,33269,38792,38822')]"
            ]
          },
          "metadata": {
            "tags": []
          },
          "execution_count": 8
        }
      ]
    },
    {
      "cell_type": "code",
      "metadata": {
        "id": "PiINK69Q02dm",
        "colab_type": "code",
        "colab": {
          "base_uri": "https://localhost:8080/",
          "height": 185
        },
        "outputId": "f6af4fee-f376-49f1-e500-495747986f00"
      },
      "source": [
        "soc_table = spark.createDataFrame((soc_1), [\"UserID\", \"Friends\"])\n",
        "soc_table.show(4)"
      ],
      "execution_count": 9,
      "outputs": [
        {
          "output_type": "stream",
          "text": [
            "+------+--------------------+\n",
            "|UserID|             Friends|\n",
            "+------+--------------------+\n",
            "|     0|1,2,3,4,5,6,7,8,9...|\n",
            "|     1|0,5,20,135,2409,8...|\n",
            "|     2|0,117,135,1220,27...|\n",
            "|     3|0,12,41,55,1532,1...|\n",
            "+------+--------------------+\n",
            "only showing top 4 rows\n",
            "\n"
          ],
          "name": "stdout"
        }
      ]
    },
    {
      "cell_type": "code",
      "metadata": {
        "id": "u81l4-eX3qxu",
        "colab_type": "code",
        "colab": {
          "base_uri": "https://localhost:8080/",
          "height": 34
        },
        "outputId": "528d37c6-97bd-418b-8e31-ef2604f8d16f"
      },
      "source": [
        "soc_table.cache()"
      ],
      "execution_count": 10,
      "outputs": [
        {
          "output_type": "execute_result",
          "data": {
            "text/plain": [
              "DataFrame[UserID: string, Friends: string]"
            ]
          },
          "metadata": {
            "tags": []
          },
          "execution_count": 10
        }
      ]
    },
    {
      "cell_type": "markdown",
      "metadata": {
        "id": "pp1FUEf8ugL4",
        "colab_type": "text"
      },
      "source": [
        "Algorithm:"
      ]
    },
    {
      "cell_type": "code",
      "metadata": {
        "id": "cJKpycI8Ze9l",
        "colab_type": "code",
        "colab": {}
      },
      "source": [
        "#Cross-joined the data to itself, to get pair of UserIDs to be able to easily find out how many mutual friends they have\n",
        "soc_table.registerTempTable(\"soc\")\n",
        "\n",
        "query = \"\"\"Select s1.UserID as UserID_1, s1.Friends as Friends_1, s2.UserID as potential, s2.Friends as mutual_friends\n",
        "            from soc s1 cross join soc s2\"\"\"\n",
        "soc_crossjoined = spark.sql(query)\n"
      ],
      "execution_count": 0,
      "outputs": []
    },
    {
      "cell_type": "code",
      "metadata": {
        "id": "MiK4RptRyDlk",
        "colab_type": "code",
        "colab": {
          "base_uri": "https://localhost:8080/",
          "height": 121
        },
        "outputId": "462a75c9-6165-4999-a4a3-2b47eed55833"
      },
      "source": [
        "soc_crossjoined.head(5)"
      ],
      "execution_count": 12,
      "outputs": [
        {
          "output_type": "execute_result",
          "data": {
            "text/plain": [
              "[Row(UserID_1='0', Friends_1='1,2,3,4,5,6,7,8,9,10,11,12,13,14,15,16,17,18,19,20,21,22,23,24,25,26,27,28,29,30,31,32,33,34,35,36,37,38,39,40,41,42,43,44,45,46,47,48,49,50,51,52,53,54,55,56,57,58,59,60,61,62,63,64,65,66,67,68,69,70,71,72,73,74,75,76,77,78,79,80,81,82,83,84,85,86,87,88,89,90,91,92,93,94', potential='0', mutual_friends='1,2,3,4,5,6,7,8,9,10,11,12,13,14,15,16,17,18,19,20,21,22,23,24,25,26,27,28,29,30,31,32,33,34,35,36,37,38,39,40,41,42,43,44,45,46,47,48,49,50,51,52,53,54,55,56,57,58,59,60,61,62,63,64,65,66,67,68,69,70,71,72,73,74,75,76,77,78,79,80,81,82,83,84,85,86,87,88,89,90,91,92,93,94'),\n",
              " Row(UserID_1='0', Friends_1='1,2,3,4,5,6,7,8,9,10,11,12,13,14,15,16,17,18,19,20,21,22,23,24,25,26,27,28,29,30,31,32,33,34,35,36,37,38,39,40,41,42,43,44,45,46,47,48,49,50,51,52,53,54,55,56,57,58,59,60,61,62,63,64,65,66,67,68,69,70,71,72,73,74,75,76,77,78,79,80,81,82,83,84,85,86,87,88,89,90,91,92,93,94', potential='1', mutual_friends='0,5,20,135,2409,8715,8932,10623,12347,12846,13840,13845,14005,20075,21556,22939,23520,28193,29724,29791,29826,30691,31232,31435,32317,32489,34394,35589,35605,35606,35613,35633,35648,35678,38737,43447,44846,44887,49226,49985,623,629,4999,6156,13912,14248,15190,17636,19217,20074,27536,29481,29726,29767,30257,33060,34250,34280,34392,34406,34418,34420,34439,34450,34651,45054,49592'),\n",
              " Row(UserID_1='0', Friends_1='1,2,3,4,5,6,7,8,9,10,11,12,13,14,15,16,17,18,19,20,21,22,23,24,25,26,27,28,29,30,31,32,33,34,35,36,37,38,39,40,41,42,43,44,45,46,47,48,49,50,51,52,53,54,55,56,57,58,59,60,61,62,63,64,65,66,67,68,69,70,71,72,73,74,75,76,77,78,79,80,81,82,83,84,85,86,87,88,89,90,91,92,93,94', potential='2', mutual_friends='0,117,135,1220,2755,12453,24539,24714,41456,45046,49927,6893,13795,16659,32828,41878'),\n",
              " Row(UserID_1='0', Friends_1='1,2,3,4,5,6,7,8,9,10,11,12,13,14,15,16,17,18,19,20,21,22,23,24,25,26,27,28,29,30,31,32,33,34,35,36,37,38,39,40,41,42,43,44,45,46,47,48,49,50,51,52,53,54,55,56,57,58,59,60,61,62,63,64,65,66,67,68,69,70,71,72,73,74,75,76,77,78,79,80,81,82,83,84,85,86,87,88,89,90,91,92,93,94', potential='3', mutual_friends='0,12,41,55,1532,12636,13185,27552,38737'),\n",
              " Row(UserID_1='0', Friends_1='1,2,3,4,5,6,7,8,9,10,11,12,13,14,15,16,17,18,19,20,21,22,23,24,25,26,27,28,29,30,31,32,33,34,35,36,37,38,39,40,41,42,43,44,45,46,47,48,49,50,51,52,53,54,55,56,57,58,59,60,61,62,63,64,65,66,67,68,69,70,71,72,73,74,75,76,77,78,79,80,81,82,83,84,85,86,87,88,89,90,91,92,93,94', potential='4', mutual_friends='0,8,14,15,18,27,72,80,15326,19068,19079,24596,42697,46126,74,77,33269,38792,38822')]"
            ]
          },
          "metadata": {
            "tags": []
          },
          "execution_count": 12
        }
      ]
    },
    {
      "cell_type": "code",
      "metadata": {
        "id": "CVYKz-SE9dQd",
        "colab_type": "code",
        "colab": {}
      },
      "source": [
        "#The function does a cartesian product of the sets of friends for the 2 userIDs to find number of mutual friends they share\n",
        "def get_reco(row):\n",
        "  uid = row['UserID_1']\n",
        "  friends = row['Friends_1'].split(\",\")\n",
        "  potential = row['potential']\n",
        "  mutual = row['mutual_friends'].split(\",\")\n",
        "  if(uid != potential):\n",
        "    if(friends.count(str(potential)) == 0 ):\n",
        "      mutual_count = len(set(friends)&set(mutual))\n",
        "    else:\n",
        "      mutual_count = 0\n",
        "  else:\n",
        "    mutual_count = 0\n",
        "  return (int(uid), int(potential), int(mutual_count))\n"
      ],
      "execution_count": 0,
      "outputs": []
    },
    {
      "cell_type": "markdown",
      "metadata": {
        "id": "XLPyYm7zvROH",
        "colab_type": "text"
      },
      "source": [
        "Reccomendations for a subset of UserIDs"
      ]
    },
    {
      "cell_type": "code",
      "metadata": {
        "id": "NjeS2bFDo3iJ",
        "colab_type": "code",
        "colab": {}
      },
      "source": [
        "#SUbsetting data for only the specified 10 UserIDs required for the writeup.\n",
        "#for faster execution and sanity check of results\n",
        "df = soc_crossjoined.filter(soc_crossjoined.UserID_1.isin([11, 924, 8941, 8942, 9019, 9020, 9021, 9022, 9990, 9992, 9993]))"
      ],
      "execution_count": 0,
      "outputs": []
    },
    {
      "cell_type": "code",
      "metadata": {
        "id": "-jLxh_bpaPHg",
        "colab_type": "code",
        "colab": {}
      },
      "source": [
        "recommendations = df.rdd.map(lambda row: get_reco(row))"
      ],
      "execution_count": 0,
      "outputs": []
    },
    {
      "cell_type": "code",
      "metadata": {
        "id": "NALypW0h9xpb",
        "colab_type": "code",
        "colab": {}
      },
      "source": [
        "writeup_results = spark.createDataFrame((recommendations), [\"UserID\",\"Reccomendation\",\"Mutual_friends\"])"
      ],
      "execution_count": 0,
      "outputs": []
    },
    {
      "cell_type": "code",
      "metadata": {
        "id": "vwdmr1WueQJ1",
        "colab_type": "code",
        "colab": {
          "base_uri": "https://localhost:8080/",
          "height": 34
        },
        "outputId": "0cbeb4e5-b089-4a1e-cbc7-cebd548ce3c8"
      },
      "source": [
        "writeup_results.cache()"
      ],
      "execution_count": 17,
      "outputs": [
        {
          "output_type": "execute_result",
          "data": {
            "text/plain": [
              "DataFrame[UserID: bigint, Reccomendation: bigint, Mutual_friends: bigint]"
            ]
          },
          "metadata": {
            "tags": []
          },
          "execution_count": 17
        }
      ]
    },
    {
      "cell_type": "code",
      "metadata": {
        "id": "ynY8YgkSMDj2",
        "colab_type": "code",
        "colab": {}
      },
      "source": [
        "writeup_results.registerTempTable(\"reccomendation_table\")"
      ],
      "execution_count": 0,
      "outputs": []
    },
    {
      "cell_type": "code",
      "metadata": {
        "id": "sWtZbs7OMP04",
        "colab_type": "code",
        "colab": {}
      },
      "source": [
        "query = \"\"\"SELECT * FROM(\n",
        "            SELECT *, Rank() over(partition by UserID order by Mutual_friends DESC, Reccomendation ASC) as Rank\n",
        "            FROM reccomendation_table\n",
        "            WHERE Mutual_friends > 0\n",
        "            AND UserID != Reccomendation) as r\n",
        "            WHERE r.Rank <= 10\"\"\"\n",
        "\n",
        "final_output = spark.sql(query)"
      ],
      "execution_count": 0,
      "outputs": []
    },
    {
      "cell_type": "code",
      "metadata": {
        "id": "3ow7mnDX0DVW",
        "colab_type": "code",
        "colab": {
          "base_uri": "https://localhost:8080/",
          "height": 34
        },
        "outputId": "00b4a3c6-58b3-48b4-c308-d3647d3749e3"
      },
      "source": [
        "final_output.cache()"
      ],
      "execution_count": 20,
      "outputs": [
        {
          "output_type": "execute_result",
          "data": {
            "text/plain": [
              "DataFrame[UserID: bigint, Reccomendation: bigint, Mutual_friends: bigint, Rank: int]"
            ]
          },
          "metadata": {
            "tags": []
          },
          "execution_count": 20
        }
      ]
    },
    {
      "cell_type": "code",
      "metadata": {
        "id": "69qddWpPBj14",
        "colab_type": "code",
        "colab": {
          "base_uri": "https://localhost:8080/",
          "height": 286
        },
        "outputId": "3c80676e-b2ea-47a0-88cd-40981b59ee31"
      },
      "source": [
        "writeup_users = final_output.groupby(\"UserID\").agg(f.concat_ws(\", \", f.collect_list(final_output.Reccomendation)))\n",
        "writeup_users = writeup_users.select(col(\"UserID\").alias(\"UserID\"), col(\"concat_ws(, , collect_list(Reccomendation))\").alias(\"Reccomendations\"))\n",
        "writeup_users.show(11, False)"
      ],
      "execution_count": 21,
      "outputs": [
        {
          "output_type": "stream",
          "text": [
            "+------+-------------------------------------------------------------------+\n",
            "|UserID|Reccomendations                                                    |\n",
            "+------+-------------------------------------------------------------------+\n",
            "|9019  |9022, 317, 9023                                                    |\n",
            "|9020  |9021, 9016, 9017, 9022, 317, 9023                                  |\n",
            "|9992  |9987, 9989, 35667, 9991                                            |\n",
            "|9022  |9019, 9020, 9021, 317, 9016, 9017, 9023                            |\n",
            "|11    |27552, 7785, 27573, 27574, 27589, 27590, 27600, 27617, 27620, 27667|\n",
            "|8941  |8943, 8944, 8940                                                   |\n",
            "|9990  |13134, 13478, 13877, 34299, 34485, 34642, 37941                    |\n",
            "|8942  |8939, 8940, 8943, 8944                                             |\n",
            "|924   |439, 2409, 6995, 11860, 15416, 43748, 45881                        |\n",
            "|9021  |9020, 9016, 9017, 9022, 317, 9023                                  |\n",
            "|9993  |9991, 13134, 13478, 13877, 34299, 34485, 34642, 37941              |\n",
            "+------+-------------------------------------------------------------------+\n",
            "\n"
          ],
          "name": "stdout"
        }
      ]
    },
    {
      "cell_type": "code",
      "metadata": {
        "id": "DVb0KcQgEBSK",
        "colab_type": "code",
        "colab": {}
      },
      "source": [
        "\n",
        "#writeup_users.write.csv('writeup_users.csv')\n",
        "\n",
        "#Next part computes the reccomendations for all the UserIDs"
      ],
      "execution_count": 0,
      "outputs": []
    },
    {
      "cell_type": "markdown",
      "metadata": {
        "id": "jRTsxbrnvZ-f",
        "colab_type": "text"
      },
      "source": [
        "Reccomendations for all UserIDs"
      ]
    },
    {
      "cell_type": "code",
      "metadata": {
        "id": "q97l0ajdE22t",
        "colab_type": "code",
        "colab": {
          "base_uri": "https://localhost:8080/",
          "height": 34
        },
        "outputId": "379be177-cfea-4e03-d488-0d07a1e85531"
      },
      "source": [
        "recommendations_all = soc_crossjoined.rdd.map(lambda row: get_reco(row))\n",
        "recommendations_all.take(3)"
      ],
      "execution_count": 23,
      "outputs": [
        {
          "output_type": "execute_result",
          "data": {
            "text/plain": [
              "[(0, 0, 0), (0, 1, 0), (0, 2, 0)]"
            ]
          },
          "metadata": {
            "tags": []
          },
          "execution_count": 23
        }
      ]
    },
    {
      "cell_type": "code",
      "metadata": {
        "id": "KG7Ks9XTzyKw",
        "colab_type": "code",
        "colab": {
          "base_uri": "https://localhost:8080/",
          "height": 34
        },
        "outputId": "ae9047e6-37eb-4f9b-efd4-97e1b722ba52"
      },
      "source": [
        "recommendations_all.cache()"
      ],
      "execution_count": 24,
      "outputs": [
        {
          "output_type": "execute_result",
          "data": {
            "text/plain": [
              "PythonRDD[77] at RDD at PythonRDD.scala:53"
            ]
          },
          "metadata": {
            "tags": []
          },
          "execution_count": 24
        }
      ]
    },
    {
      "cell_type": "code",
      "metadata": {
        "id": "Yki0z8RjmRq8",
        "colab_type": "code",
        "colab": {
          "base_uri": "https://localhost:8080/",
          "height": 34
        },
        "outputId": "dd572627-4c06-485f-d5a4-30192205eb66"
      },
      "source": [
        "recommendations_all_final = recommendations_all.filter(lambda row: row[2] > 0)\n",
        "recommendations_all_final.take(5)"
      ],
      "execution_count": 25,
      "outputs": [
        {
          "output_type": "execute_result",
          "data": {
            "text/plain": [
              "[(0, 135, 2), (0, 2409, 1), (0, 8715, 1), (0, 8932, 1), (0, 10623, 1)]"
            ]
          },
          "metadata": {
            "tags": []
          },
          "execution_count": 25
        }
      ]
    },
    {
      "cell_type": "code",
      "metadata": {
        "id": "Ljb36CvIl2JX",
        "colab_type": "code",
        "colab": {
          "base_uri": "https://localhost:8080/",
          "height": 34
        },
        "outputId": "193a8a15-64cc-48e3-9b59-7e35f33a8521"
      },
      "source": [
        "final_results = spark.createDataFrame((recommendations_all), [\"UserID\",\"Reccomendation\",\"Mutual_friends\"])\n",
        "final_results.cache()\n"
      ],
      "execution_count": 26,
      "outputs": [
        {
          "output_type": "execute_result",
          "data": {
            "text/plain": [
              "DataFrame[UserID: bigint, Reccomendation: bigint, Mutual_friends: bigint]"
            ]
          },
          "metadata": {
            "tags": []
          },
          "execution_count": 26
        }
      ]
    },
    {
      "cell_type": "code",
      "metadata": {
        "id": "KLPxqX5XH2v5",
        "colab_type": "code",
        "colab": {}
      },
      "source": [
        "final_results.registerTempTable(\"reccomendation_table_final\")\n",
        "\n",
        "query = \"\"\"SELECT * FROM(\n",
        "            SELECT *, Rank() over(partition by UserID order by Mutual_friends DESC, Reccomendation ASC) as Rank\n",
        "            FROM reccomendation_table_final\n",
        "            WHERE Mutual_friends > 0\n",
        "            AND UserID != Reccomendation) as r\n",
        "            WHERE r.Rank <= 10\"\"\"\n",
        "\n",
        "complete_output = spark.sql(query)"
      ],
      "execution_count": 0,
      "outputs": []
    },
    {
      "cell_type": "code",
      "metadata": {
        "id": "ImGlA9eiH-Go",
        "colab_type": "code",
        "outputId": "d933baae-00b5-48e4-b9dc-19f1898e9fd3",
        "colab": {
          "base_uri": "https://localhost:8080/",
          "height": 34
        }
      },
      "source": [
        "complete_output.cache()"
      ],
      "execution_count": 28,
      "outputs": [
        {
          "output_type": "execute_result",
          "data": {
            "text/plain": [
              "DataFrame[UserID: bigint, Reccomendation: bigint, Mutual_friends: bigint, Rank: int]"
            ]
          },
          "metadata": {
            "tags": []
          },
          "execution_count": 28
        }
      ]
    },
    {
      "cell_type": "code",
      "metadata": {
        "id": "H-zX86jYIAl-",
        "colab_type": "code",
        "colab": {}
      },
      "source": [
        "all_users = complete_output.groupby(\"UserID\").agg(f.concat_ws(\", \", f.collect_list(complete_output.Reccomendation)))\n",
        "all_users = all_users.select(col(\"UserID\").alias(\"UserID\"), col(\"concat_ws(, , collect_list(Reccomendation))\").alias(\"Reccomendations\"))"
      ],
      "execution_count": 0,
      "outputs": []
    },
    {
      "cell_type": "code",
      "metadata": {
        "id": "JNAfjRDntUrr",
        "colab_type": "code",
        "outputId": "ebeebd16-8c3b-4543-c28b-b2f9fddbaa20",
        "colab": {
          "base_uri": "https://localhost:8080/",
          "height": 34
        }
      },
      "source": [
        "all_users.cache()\n"
      ],
      "execution_count": 30,
      "outputs": [
        {
          "output_type": "execute_result",
          "data": {
            "text/plain": [
              "DataFrame[UserID: bigint, Reccomendations: string]"
            ]
          },
          "metadata": {
            "tags": []
          },
          "execution_count": 30
        }
      ]
    },
    {
      "cell_type": "markdown",
      "metadata": {
        "id": "d0YXgcfXvfio",
        "colab_type": "text"
      },
      "source": [
        "The code chunks after this point take very long to execute and for some reason everytime the hosted session gets disconnected before it completes executing. And so I am unable to store the final reccomendations for all userIDs to a file as requested in the question. :("
      ]
    },
    {
      "cell_type": "code",
      "metadata": {
        "id": "114hA5kaZte4",
        "colab_type": "code",
        "colab": {}
      },
      "source": [
        "all_users.show(5)"
      ],
      "execution_count": 0,
      "outputs": []
    },
    {
      "cell_type": "code",
      "metadata": {
        "id": "RCFPeR3BvbR_",
        "colab_type": "code",
        "colab": {}
      },
      "source": [
        "#all_users.write.mode('overwrite').json(\"all_users_reccomendation.json\")"
      ],
      "execution_count": 0,
      "outputs": []
    }
  ]
}