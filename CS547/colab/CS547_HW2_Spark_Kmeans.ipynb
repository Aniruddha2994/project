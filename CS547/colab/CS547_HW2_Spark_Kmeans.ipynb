{
  "nbformat": 4,
  "nbformat_minor": 0,
  "metadata": {
    "colab": {
      "name": "CS547_HW2_Spark_Kmeans.ipynb",
      "provenance": [],
      "collapsed_sections": []
    },
    "kernelspec": {
      "name": "python3",
      "display_name": "Python 3"
    }
  },
  "cells": [
    {
      "cell_type": "code",
      "metadata": {
        "id": "aBnoBwvGLV-t",
        "colab_type": "code",
        "outputId": "f3ad8b60-1860-4618-bec3-48924b9ca8ef",
        "colab": {
          "base_uri": "https://localhost:8080/",
          "height": 289
        }
      },
      "source": [
        "!pip install pyspark\n",
        "!pip install -U -q PyDrive\n",
        "!apt install openjdk-8-jdk-headless -qq\n",
        "import os\n",
        "os.environ[\"JAVA_HOME\"] = \"/usr/lib/jvm/java-8-openjdk-amd64\""
      ],
      "execution_count": 0,
      "outputs": [
        {
          "output_type": "stream",
          "text": [
            "Collecting pyspark\n",
            "\u001b[?25l  Downloading https://files.pythonhosted.org/packages/9a/5a/271c416c1c2185b6cb0151b29a91fff6fcaed80173c8584ff6d20e46b465/pyspark-2.4.5.tar.gz (217.8MB)\n",
            "\u001b[K     |████████████████████████████████| 217.8MB 62kB/s \n",
            "\u001b[?25hCollecting py4j==0.10.7\n",
            "\u001b[?25l  Downloading https://files.pythonhosted.org/packages/e3/53/c737818eb9a7dc32a7cd4f1396e787bd94200c3997c72c1dbe028587bd76/py4j-0.10.7-py2.py3-none-any.whl (197kB)\n",
            "\u001b[K     |████████████████████████████████| 204kB 47.5MB/s \n",
            "\u001b[?25hBuilding wheels for collected packages: pyspark\n",
            "  Building wheel for pyspark (setup.py) ... \u001b[?25l\u001b[?25hdone\n",
            "  Created wheel for pyspark: filename=pyspark-2.4.5-py2.py3-none-any.whl size=218257927 sha256=e653f6430443b64e3e76eaa48a43f0de9989eb45213df7d0225ca232630543ad\n",
            "  Stored in directory: /root/.cache/pip/wheels/bf/db/04/61d66a5939364e756eb1c1be4ec5bdce6e04047fc7929a3c3c\n",
            "Successfully built pyspark\n",
            "Installing collected packages: py4j, pyspark\n",
            "Successfully installed py4j-0.10.7 pyspark-2.4.5\n",
            "openjdk-8-jdk-headless is already the newest version (8u242-b08-0ubuntu3~18.04).\n",
            "0 upgraded, 0 newly installed, 0 to remove and 25 not upgraded.\n"
          ],
          "name": "stdout"
        }
      ]
    },
    {
      "cell_type": "code",
      "metadata": {
        "id": "WKfsxf5aLW1_",
        "colab_type": "code",
        "colab": {}
      },
      "source": [
        "import pandas as pd\n",
        "import numpy as np\n",
        "import matplotlib.pyplot as plt\n",
        "from scipy.spatial.distance import cdist\n",
        "%matplotlib inline\n",
        "\n",
        "import pyspark\n",
        "from pyspark.sql import *\n",
        "from pyspark.sql.types import *\n",
        "from pyspark.sql.functions import *\n",
        "from pyspark import SparkContext, SparkConf"
      ],
      "execution_count": 0,
      "outputs": []
    },
    {
      "cell_type": "code",
      "metadata": {
        "id": "L4OBxwQBLYmG",
        "colab_type": "code",
        "colab": {}
      },
      "source": [
        "# create the session\n",
        "conf = SparkConf().set(\"spark.ui.port\", \"4050\")\n",
        "\n",
        "# create the context\n",
        "sc = pyspark.SparkContext(conf=conf)\n",
        "spark = SparkSession.builder.getOrCreate()"
      ],
      "execution_count": 0,
      "outputs": []
    },
    {
      "cell_type": "code",
      "metadata": {
        "id": "iF5IbwmSLaZ6",
        "colab_type": "code",
        "outputId": "5460a7fd-c687-4d2f-eaca-5a53965c69aa",
        "colab": {
          "base_uri": "https://localhost:8080/",
          "height": 286
        }
      },
      "source": [
        "!wget https://bin.equinox.io/c/4VmDzA7iaHb/ngrok-stable-linux-amd64.zip\n",
        "!unzip ngrok-stable-linux-amd64.zip\n",
        "get_ipython().system_raw('./ngrok http 4050 &')\n",
        "!curl -s http://localhost:4040/api/tunnels | python3 -c \\\n",
        "    \"import sys, json; print(json.load(sys.stdin)['tunnels'][0]['public_url'])\""
      ],
      "execution_count": 0,
      "outputs": [
        {
          "output_type": "stream",
          "text": [
            "--2020-04-30 20:41:54--  https://bin.equinox.io/c/4VmDzA7iaHb/ngrok-stable-linux-amd64.zip\n",
            "Resolving bin.equinox.io (bin.equinox.io)... 52.54.211.101, 3.229.178.204, 34.196.12.177, ...\n",
            "Connecting to bin.equinox.io (bin.equinox.io)|52.54.211.101|:443... connected.\n",
            "HTTP request sent, awaiting response... 200 OK\n",
            "Length: 13773305 (13M) [application/octet-stream]\n",
            "Saving to: ‘ngrok-stable-linux-amd64.zip’\n",
            "\n",
            "ngrok-stable-linux- 100%[===================>]  13.13M  6.49MB/s    in 2.0s    \n",
            "\n",
            "2020-04-30 20:41:56 (6.49 MB/s) - ‘ngrok-stable-linux-amd64.zip’ saved [13773305/13773305]\n",
            "\n",
            "Archive:  ngrok-stable-linux-amd64.zip\n",
            "  inflating: ngrok                   \n",
            "Traceback (most recent call last):\n",
            "  File \"<string>\", line 1, in <module>\n",
            "IndexError: list index out of range\n"
          ],
          "name": "stdout"
        }
      ]
    },
    {
      "cell_type": "markdown",
      "metadata": {
        "id": "WVEb7EovKc8n",
        "colab_type": "text"
      },
      "source": [
        "Loading datasets"
      ]
    },
    {
      "cell_type": "code",
      "metadata": {
        "id": "kpzoJOdLLcW3",
        "colab_type": "code",
        "colab": {}
      },
      "source": [
        "c1 = np.genfromtxt(\"c1.txt\")\n",
        "c2 = np.genfromtxt(\"c2.txt\")\n",
        "data = sc.textFile(\"data.txt\",8)"
      ],
      "execution_count": 0,
      "outputs": []
    },
    {
      "cell_type": "code",
      "metadata": {
        "id": "JyTXbbdf3nAS",
        "colab_type": "code",
        "colab": {}
      },
      "source": [
        "data_1 = data.map(lambda x:(x.split(' ')))\n",
        "data_parsed = data_1.map(lambda lines: [float(x) for x in lines])"
      ],
      "execution_count": 0,
      "outputs": []
    },
    {
      "cell_type": "code",
      "metadata": {
        "id": "HFi-zUwz6A1k",
        "colab_type": "code",
        "colab": {}
      },
      "source": [
        "data_parsed.take(2)"
      ],
      "execution_count": 0,
      "outputs": []
    },
    {
      "cell_type": "markdown",
      "metadata": {
        "id": "56CDwNr4KtP4",
        "colab_type": "text"
      },
      "source": [
        "Defining UDF for euclidean and manhattan distance calculation and cost function computation"
      ]
    },
    {
      "cell_type": "code",
      "metadata": {
        "id": "7DHLTWel6DLj",
        "colab_type": "code",
        "colab": {}
      },
      "source": [
        "def euclideanDist(a,b):\n",
        "  return np.linalg.norm(a-b, axis = 1)"
      ],
      "execution_count": 0,
      "outputs": []
    },
    {
      "cell_type": "code",
      "metadata": {
        "id": "C8ug8C7Fh6Ah",
        "colab_type": "code",
        "colab": {}
      },
      "source": [
        "def manhattanDist(a,b):\n",
        "  return cdist([a], b, metric='cityblock')"
      ],
      "execution_count": 0,
      "outputs": []
    },
    {
      "cell_type": "code",
      "metadata": {
        "id": "7m9LOrJOQ1Vd",
        "colab_type": "code",
        "colab": {}
      },
      "source": [
        "def euclideanCost(a,b):\n",
        "  e_dist = euclideanDist(a,b)\n",
        "  return np.argmin(e_dist), np.min(e_dist)\n",
        "\n"
      ],
      "execution_count": 0,
      "outputs": []
    },
    {
      "cell_type": "code",
      "metadata": {
        "id": "rHAUyiKTiIck",
        "colab_type": "code",
        "colab": {}
      },
      "source": [
        "def manhattanCost(a,b):\n",
        "  m_dist = manhattanDist(a,b)\n",
        "  return np.argmin(m_dist), np.min(m_dist)\n"
      ],
      "execution_count": 0,
      "outputs": []
    },
    {
      "cell_type": "code",
      "metadata": {
        "id": "d3cGv4KRNsV1",
        "colab_type": "code",
        "colab": {}
      },
      "source": [
        "def compute_k_means(data, Centroinds, max_iters, method):\n",
        "\n",
        "\n",
        "  cost_history = []\n",
        "  C = Centroinds\n",
        "  if method == 'euclidean':\n",
        "    func = euclideanCost\n",
        "  elif method == 'manhattan':\n",
        "    func = manhattanCost\n",
        "  else:\n",
        "    return print(\"Wrong method input| Choose one of these methods: euclidean|manhattan\")\n",
        "\n",
        "  for k in range(max_iters):\n",
        "    clusters_map = data.map(lambda p: (func(p, C), p)).map(lambda p: (p[0][0], p[1]))\n",
        "    min_dist_map = data.map(lambda p: (func(p, C), p)).map(lambda p: (p[1], p[0][1]))\n",
        "    cost = 0\n",
        "    for points in min_dist_map.collect():\n",
        "      if method == 'euclidean':\n",
        "        cost += points[1]**2\n",
        "      elif method == 'manhattan':\n",
        "        cost += points[1]\n",
        "\n",
        "    cost_history.append(cost)\n",
        "\n",
        "    C = clusters_map.groupByKey().map(lambda c: np.mean([x for x in c[1]], 0)).collect()\n",
        "    C = np.array(C)\n",
        "\n",
        "  return cost_history"
      ],
      "execution_count": 0,
      "outputs": []
    },
    {
      "cell_type": "code",
      "metadata": {
        "id": "pNwESkTpkjwJ",
        "colab_type": "code",
        "colab": {}
      },
      "source": [
        "def computeCostChange(cost, i = 0, k = 10):\n",
        "  change = (cost[i]-cost[k])/cost[i]\n",
        "  return change\n"
      ],
      "execution_count": 0,
      "outputs": []
    },
    {
      "cell_type": "markdown",
      "metadata": {
        "id": "sLEOQ6_bK94e",
        "colab_type": "text"
      },
      "source": [
        "RUn K-means for the two sets of centroids C1 and C2 using euclidean distance method"
      ]
    },
    {
      "cell_type": "code",
      "metadata": {
        "id": "IGKeop9APGhJ",
        "colab_type": "code",
        "colab": {}
      },
      "source": [
        "cost_c1 = compute_k_means(data_parsed, c1, max_iters = 20, method = \"euclidean\")\n",
        "cost_c2 = compute_k_means(data_parsed, c2, max_iters = 20, method = \"euclidean\")"
      ],
      "execution_count": 0,
      "outputs": []
    },
    {
      "cell_type": "code",
      "metadata": {
        "id": "TKDNkIQAZXcV",
        "colab_type": "code",
        "colab": {
          "base_uri": "https://localhost:8080/",
          "height": 367
        },
        "outputId": "3cc70ad1-6216-4287-da7e-0e8be254e443"
      },
      "source": [
        "#plotting the cost function vs iteration graph for the two centroids\n",
        "plt.figure(figsize = (15,5))\n",
        "\n",
        "plt.subplot(1,2,1)\n",
        "plt.plot(cost_c1, color = \"orange\", label = \"C1 centroids\")\n",
        "plt.xlabel(\"Iterations\")\n",
        "plt.ylabel(\"Cost\")\n",
        "plt.title(\"C1 centroids\")\n",
        "\n",
        "plt.subplot(1,2,2)\n",
        "plt.plot(cost_c2, color = \"blue\", label = \"C2 centroids\")\n",
        "plt.xlabel(\"Iterations\")\n",
        "plt.ylabel(\"Cost\")\n",
        "plt.title(\"C2 centroids\")"
      ],
      "execution_count": 150,
      "outputs": [
        {
          "output_type": "execute_result",
          "data": {
            "text/plain": [
              "Text(0.5, 1.0, 'C2 centroids')"
            ]
          },
          "metadata": {
            "tags": []
          },
          "execution_count": 150
        },
        {
          "output_type": "display_data",
          "data": {
            "image/png": "[encoded data removed]",
            "text/plain": [
              "<Figure size 1080x360 with 2 Axes>"
            ]
          },
          "metadata": {
            "tags": [],
            "needs_background": "light"
          }
        }
      ]
    },
    {
      "cell_type": "code",
      "metadata": {
        "id": "nO4bRHNePHGK",
        "colab_type": "code",
        "colab": {
          "base_uri": "https://localhost:8080/",
          "height": 50
        },
        "outputId": "6915b740-7ea7-4c29-d94a-a304d1c846cb"
      },
      "source": [
        "c1_change = computeCostChange(cost_c1)\n",
        "print(\"For C1 centroids, cost reduced by \", int((c1_change)*100), \"%\")\n",
        "\n",
        "c2_change = computeCostChange(cost_c2)\n",
        "print(\"For C2 centroids, cost reduced by \", int((c2_change)*100), \"%\")"
      ],
      "execution_count": 175,
      "outputs": [
        {
          "output_type": "stream",
          "text": [
            "For C1 centroids, cost reduced by  26 %\n",
            "For C2 centroids, cost reduced by  76 %\n"
          ],
          "name": "stdout"
        }
      ]
    },
    {
      "cell_type": "markdown",
      "metadata": {
        "id": "Eh0fI7J3LnH5",
        "colab_type": "text"
      },
      "source": [
        "Run K-means for the two sets of centroids C1 and C2 using manhattan distance method"
      ]
    },
    {
      "cell_type": "code",
      "metadata": {
        "id": "go8JvexcZCrk",
        "colab_type": "code",
        "colab": {}
      },
      "source": [
        "cost_c1 = compute_k_means(data_parsed, c1, max_iters = 20, method = \"manhattan\")\n",
        "cost_c2 = compute_k_means(data_parsed, c2, max_iters = 20, method = \"manhattan\")"
      ],
      "execution_count": 0,
      "outputs": []
    },
    {
      "cell_type": "code",
      "metadata": {
        "id": "S77lKdH5nNn8",
        "colab_type": "code",
        "colab": {
          "base_uri": "https://localhost:8080/",
          "height": 367
        },
        "outputId": "edba4eaa-e9a3-4988-d56e-562c24dc74b9"
      },
      "source": [
        "plt.figure(figsize = (15,5))\n",
        "\n",
        "plt.subplot(1,2,1)\n",
        "plt.plot(cost_c1, color = \"orange\", label = \"C1 centroids\")\n",
        "plt.xlabel(\"Iterations\")\n",
        "plt.ylabel(\"Cost\")\n",
        "plt.title(\"C1 centroids\")\n",
        "\n",
        "plt.subplot(1,2,2)\n",
        "plt.plot(cost_c2, color = \"blue\", label = \"C2 centroids\")\n",
        "plt.xlabel(\"Iterations\")\n",
        "plt.ylabel(\"Cost\")\n",
        "plt.title(\"C2 centroids\")"
      ],
      "execution_count": 177,
      "outputs": [
        {
          "output_type": "execute_result",
          "data": {
            "text/plain": [
              "Text(0.5, 1.0, 'C2 centroids')"
            ]
          },
          "metadata": {
            "tags": []
          },
          "execution_count": 177
        },
        {
          "output_type": "display_data",
          "data": {
            "image/png": "[encoded data removed]",
            "text/plain": [
              "<Figure size 1080x360 with 2 Axes>"
            ]
          },
          "metadata": {
            "tags": [],
            "needs_background": "light"
          }
        }
      ]
    },
    {
      "cell_type": "code",
      "metadata": {
        "id": "JB13jJgynPrp",
        "colab_type": "code",
        "colab": {
          "base_uri": "https://localhost:8080/",
          "height": 50
        },
        "outputId": "069ff7ac-f001-4b6d-da32-bdb38d7f7a04"
      },
      "source": [
        "c1_change = computeCostChange(cost_c1)\n",
        "print(\"For C1 centroids, cost reduced by \", int((c1_change)*100), \"%\")\n",
        "\n",
        "c2_change = computeCostChange(cost_c2)\n",
        "print(\"For C2 centroids, cost reduced by \", int((c2_change)*100), \"%\")"
      ],
      "execution_count": 178,
      "outputs": [
        {
          "output_type": "stream",
          "text": [
            "For C1 centroids, cost reduced by  61 %\n",
            "For C2 centroids, cost reduced by  71 %\n"
          ],
          "name": "stdout"
        }
      ]
    },
    {
      "cell_type": "code",
      "metadata": {
        "id": "Xx8yG-i_nR5p",
        "colab_type": "code",
        "colab": {}
      },
      "source": [
        ""
      ],
      "execution_count": 0,
      "outputs": []
    }
  ]
}