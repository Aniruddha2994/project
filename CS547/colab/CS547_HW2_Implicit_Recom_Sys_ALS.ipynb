{
  "nbformat": 4,
  "nbformat_minor": 0,
  "metadata": {
    "colab": {
      "name": "CS547_HW2_Implicit_Recom_Sys_ALS.ipynb",
      "provenance": []
    },
    "kernelspec": {
      "name": "python3",
      "display_name": "Python 3"
    }
  },
  "cells": [
    {
      "cell_type": "code",
      "metadata": {
        "id": "-Lc7EcS7JeQr",
        "colab_type": "code",
        "colab": {
          "base_uri": "https://localhost:8080/",
          "height": 289
        },
        "outputId": "131da769-6487-4dc0-adaf-6984851a5a30"
      },
      "source": [
        "!pip install pyspark\n",
        "!pip install -U -q PyDrive\n",
        "!apt install openjdk-8-jdk-headless -qq\n",
        "import os\n",
        "os.environ[\"JAVA_HOME\"] = \"/usr/lib/jvm/java-8-openjdk-amd64\""
      ],
      "execution_count": 1,
      "outputs": [
        {
          "output_type": "stream",
          "text": [
            "Collecting pyspark\n",
            "\u001b[?25l  Downloading https://files.pythonhosted.org/packages/9a/5a/271c416c1c2185b6cb0151b29a91fff6fcaed80173c8584ff6d20e46b465/pyspark-2.4.5.tar.gz (217.8MB)\n",
            "\u001b[K     |████████████████████████████████| 217.8MB 61kB/s \n",
            "\u001b[?25hCollecting py4j==0.10.7\n",
            "\u001b[?25l  Downloading https://files.pythonhosted.org/packages/e3/53/c737818eb9a7dc32a7cd4f1396e787bd94200c3997c72c1dbe028587bd76/py4j-0.10.7-py2.py3-none-any.whl (197kB)\n",
            "\u001b[K     |████████████████████████████████| 204kB 41.1MB/s \n",
            "\u001b[?25hBuilding wheels for collected packages: pyspark\n",
            "  Building wheel for pyspark (setup.py) ... \u001b[?25l\u001b[?25hdone\n",
            "  Created wheel for pyspark: filename=pyspark-2.4.5-py2.py3-none-any.whl size=218257927 sha256=66af1beded7916cd93f92b2cbc53483ea160e48d8f5f55138babc2607181b903\n",
            "  Stored in directory: /root/.cache/pip/wheels/bf/db/04/61d66a5939364e756eb1c1be4ec5bdce6e04047fc7929a3c3c\n",
            "Successfully built pyspark\n",
            "Installing collected packages: py4j, pyspark\n",
            "Successfully installed py4j-0.10.7 pyspark-2.4.5\n",
            "openjdk-8-jdk-headless is already the newest version (8u242-b08-0ubuntu3~18.04).\n",
            "0 upgraded, 0 newly installed, 0 to remove and 25 not upgraded.\n"
          ],
          "name": "stdout"
        }
      ]
    },
    {
      "cell_type": "code",
      "metadata": {
        "id": "dwzAizrFUkE3",
        "colab_type": "code",
        "colab": {}
      },
      "source": [
        "import pandas as pd\n",
        "import numpy as np\n",
        "import matplotlib.pyplot as plt\n",
        "from scipy.spatial.distance import cdist\n",
        "import scipy.sparse as sparse\n",
        "from scipy.sparse.linalg import spsolve\n",
        "from sklearn.preprocessing import MinMaxScaler\n",
        "%matplotlib inline\n",
        "\n",
        "import pyspark\n",
        "from pyspark.sql import *\n",
        "from pyspark.sql.types import *\n",
        "from pyspark.sql.functions import *\n",
        "from pyspark import SparkContext, SparkConf"
      ],
      "execution_count": 0,
      "outputs": []
    },
    {
      "cell_type": "code",
      "metadata": {
        "id": "gTKaZvffUlmL",
        "colab_type": "code",
        "colab": {}
      },
      "source": [
        "# create the session\n",
        "conf = SparkConf().set(\"spark.ui.port\", \"4050\")\n",
        "\n",
        "# create the context\n",
        "sc = pyspark.SparkContext(conf=conf)\n",
        "spark = SparkSession.builder.getOrCreate()"
      ],
      "execution_count": 0,
      "outputs": []
    },
    {
      "cell_type": "code",
      "metadata": {
        "id": "epv9SvytUnXG",
        "colab_type": "code",
        "colab": {
          "base_uri": "https://localhost:8080/",
          "height": 252
        },
        "outputId": "36fa5dae-0ec7-4003-d8ff-8d46d8790bba"
      },
      "source": [
        "!wget https://bin.equinox.io/c/4VmDzA7iaHb/ngrok-stable-linux-amd64.zip\n",
        "!unzip ngrok-stable-linux-amd64.zip\n",
        "get_ipython().system_raw('./ngrok http 4050 &')\n",
        "!curl -s http://localhost:4040/api/tunnels | python3 -c \\\n",
        "    \"import sys, json; print(json.load(sys.stdin)['tunnels'][0]['public_url'])\""
      ],
      "execution_count": 4,
      "outputs": [
        {
          "output_type": "stream",
          "text": [
            "--2020-05-04 01:36:33--  https://bin.equinox.io/c/4VmDzA7iaHb/ngrok-stable-linux-amd64.zip\n",
            "Resolving bin.equinox.io (bin.equinox.io)... 34.226.145.86, 52.87.72.17, 3.227.142.238, ...\n",
            "Connecting to bin.equinox.io (bin.equinox.io)|34.226.145.86|:443... connected.\n",
            "HTTP request sent, awaiting response... 200 OK\n",
            "Length: 13773305 (13M) [application/octet-stream]\n",
            "Saving to: ‘ngrok-stable-linux-amd64.zip’\n",
            "\n",
            "ngrok-stable-linux- 100%[===================>]  13.13M  1.14MB/s    in 24s     \n",
            "\n",
            "2020-05-04 01:37:04 (569 KB/s) - ‘ngrok-stable-linux-amd64.zip’ saved [13773305/13773305]\n",
            "\n",
            "Archive:  ngrok-stable-linux-amd64.zip\n",
            "  inflating: ngrok                   \n",
            "https://f57092bd.ngrok.io\n"
          ],
          "name": "stdout"
        }
      ]
    },
    {
      "cell_type": "markdown",
      "metadata": {
        "id": "u0KjoxLiMQEH",
        "colab_type": "text"
      },
      "source": [
        "Loading datasets"
      ]
    },
    {
      "cell_type": "code",
      "metadata": {
        "id": "aHAS7vjuUpA4",
        "colab_type": "code",
        "colab": {}
      },
      "source": [
        "artists = sc.textFile('artists.txt')\n",
        "#user_artists = sc.textFile('user_artists.txt')\n",
        "user_artist_small = sc.textFile('user_artists_small.txt')\n",
        "user_artist_synth = sc.textFile('user_artists_synthetic.txt')"
      ],
      "execution_count": 0,
      "outputs": []
    },
    {
      "cell_type": "code",
      "metadata": {
        "id": "jxbSCzsZVBK_",
        "colab_type": "code",
        "colab": {
          "base_uri": "https://localhost:8080/",
          "height": 202
        },
        "outputId": "4823993a-35c8-4d5a-f708-66cda39e0fdd"
      },
      "source": [
        "artists_rdd = artists.map(lambda x:(x.split('\\t')[0], x.split('\\t')[1]))\n",
        "header = artists_rdd.first()\n",
        "\n",
        "artists = artists_rdd.filter(lambda row : row != header).toDF(header)\n",
        "artists.show(5)"
      ],
      "execution_count": 6,
      "outputs": [
        {
          "output_type": "stream",
          "text": [
            "+--------+-----------------+\n",
            "|artistID|             name|\n",
            "+--------+-----------------+\n",
            "|       0|     MALICE MIZER|\n",
            "|       1|  Diary of Dreams|\n",
            "|       2|Carpathian Forest|\n",
            "|       3|     Moi dix Mois|\n",
            "|       4|      Bella Morte|\n",
            "+--------+-----------------+\n",
            "only showing top 5 rows\n",
            "\n"
          ],
          "name": "stdout"
        }
      ]
    },
    {
      "cell_type": "code",
      "metadata": {
        "id": "FXBYxsSWK7fk",
        "colab_type": "code",
        "colab": {
          "base_uri": "https://localhost:8080/",
          "height": 34
        },
        "outputId": "4bfa91ca-241f-4eb2-8d92-19896bdbf4ba"
      },
      "source": [
        "#User_artist_small dataset\n",
        "user_small_rdd = user_artist_small.map(lambda x:(x.split('\\t')[0], x.split('\\t')[1], x.split('\\t')[2]))\n",
        "header = user_small_rdd.first()\n",
        "\n",
        "users_small = user_small_rdd.filter(lambda row : row != header).toDF(header)\n",
        "users_small.count()"
      ],
      "execution_count": 7,
      "outputs": [
        {
          "output_type": "execute_result",
          "data": {
            "text/plain": [
              "265"
            ]
          },
          "metadata": {
            "tags": []
          },
          "execution_count": 7
        }
      ]
    },
    {
      "cell_type": "code",
      "metadata": {
        "id": "lt7Nap_vLHc6",
        "colab_type": "code",
        "colab": {
          "base_uri": "https://localhost:8080/",
          "height": 34
        },
        "outputId": "2f4a9b7d-8b5c-4bd8-e7fb-240592f6735f"
      },
      "source": [
        "#user_artist_synthetic dataset\n",
        "user_synth_rdd = user_artist_synth.map(lambda x:(x.split('\\t')[0], x.split('\\t')[1], x.split('\\t')[2]))\n",
        "header = user_synth_rdd.first()\n",
        "\n",
        "user_synth = user_synth_rdd.filter(lambda row : row != header).toDF(header)\n",
        "user_synth.count()"
      ],
      "execution_count": 8,
      "outputs": [
        {
          "output_type": "execute_result",
          "data": {
            "text/plain": [
              "1954"
            ]
          },
          "metadata": {
            "tags": []
          },
          "execution_count": 8
        }
      ]
    },
    {
      "cell_type": "markdown",
      "metadata": {
        "id": "v1tcxlu1MWZu",
        "colab_type": "text"
      },
      "source": [
        "UDF for computing SParsity ratio and ALS algorithm"
      ]
    },
    {
      "cell_type": "code",
      "metadata": {
        "id": "o4SKfUCa1HPG",
        "colab_type": "code",
        "colab": {}
      },
      "source": [
        "def computeSparsityRatio(users, r, c):\n",
        "  rows = [int(row.userID) for row in users.select('userID').collect()]\n",
        "  cols = [int(row.artistID) for row in users.select('artistID').collect()]\n",
        "  r_ui = [int(row.interactions) for row in users.select('interactions').collect()]\n",
        "\n",
        "  sparseData = sparse.csr_matrix((r_ui, (rows, cols)), shape=(r, c)).toarray()\n",
        "\n",
        "  alpha = float(np.count_nonzero(sparseData >0)/np.count_nonzero(sparseData ==0))\n",
        "  \n",
        "  return sparseData, alpha\n",
        "\n",
        "\n"
      ],
      "execution_count": 0,
      "outputs": []
    },
    {
      "cell_type": "code",
      "metadata": {
        "id": "R-7rqxzNS1HU",
        "colab_type": "code",
        "colab": {}
      },
      "source": [
        "def computeCost(Pu, Cu_imp, Pi, Ci_imp, X, Y, lamda):\n",
        "  Pui = np.multiply(Pu, Pi)\n",
        "  Cui = np.multiply(Cu_imp, Ci_imp)\n",
        "  Z = np.dot(X, Y.T)\n",
        "  L2 = lamda*(np.sum(np.square(X)) +  np.sum(np.square(Y)))\n",
        "  cost = np.sum(np.multiply(Cui, np.square(Pui - Z))) + L2\n",
        "  return cost\n"
      ],
      "execution_count": 0,
      "outputs": []
    },
    {
      "cell_type": "code",
      "metadata": {
        "id": "PkZ04lTcMpq2",
        "colab_type": "code",
        "colab": {}
      },
      "source": [
        "def computeImplicitALS(sparseData,alpha, lamda, f, max_iters =1000):\n",
        "  #confidence\n",
        "  C = sparseData * alpha\n",
        "  C_implicit = []\n",
        "  Pi = np.zeros(( sparseData.shape))\n",
        "  Pu = np.zeros(( sparseData.shape))\n",
        "  Ci_imp = np.zeros(( sparseData.shape))\n",
        "  Cu_imp = np.zeros(( sparseData.shape))\n",
        "\n",
        "\n",
        "  usersLen, itemLen = sparseData.shape\n",
        "\n",
        "  X = np.zeros((usersLen, f))+0.5\n",
        "  Y = np.zeros((itemLen, f))\n",
        "\n",
        "  #lambda*I\n",
        "  \n",
        " \n",
        "  LI = lamda * sparse.eye(f)\n",
        "  YI = sparse.eye(itemLen)\n",
        "  XI = sparse.eye(usersLen)\n",
        "\n",
        "  for k in range(max_iters):\n",
        "    yTy = np.dot(Y.T, Y)\n",
        "    xTx = np.dot(X.T, X)\n",
        "\n",
        "    for i in range(itemLen):\n",
        "      i_i = C[:, i].T\n",
        "      p_i = i_i.copy()\n",
        "      p_i[p_i != 0] = 1.0\n",
        "      Ci = np.diag(i_i)\n",
        "      Ciu = Ci + YI\n",
        "      xT_Ci_x_LI = (xTx + np.dot(X.T, np.dot(Ciu, X))) + LI\n",
        "      xT_Ci_p = np.dot(X.T, np.dot(Ci, p_i.T))\n",
        "      Y[i] = np.dot(np.linalg.inv(xT_Ci_x_LI), xT_Ci_p)\n",
        "      Pi[i] = p_i\n",
        "      Ci_imp[i] = i_i\n",
        "      if(i == 83):\n",
        "        y_83 = Y[i]\n",
        "\n",
        "    for u in range(usersLen):\n",
        "      u_i = C[u, :]\n",
        "      p_u = u_i.copy()\n",
        "      p_u[p_u != 0] = 1.0\n",
        "      Cu = np.diag(u_i)\n",
        "      Cui = Cu + XI\n",
        "      yT_Cu_y_LI = (yTy + np.dot(Y.T, np.dot(Cui, Y))) + LI\n",
        "      yT_Cu_pu = np.dot(Y.T, np.dot(Cu, p_u.T))\n",
        "      X[u] = np.dot(np.linalg.inv(yT_Cu_y_LI), yT_Cu_pu)\n",
        "      Pu[u] = p_u\n",
        "      Cu_imp[u] = u_i\n",
        "      if(u == 30):\n",
        "        x_30 = X[u]\n",
        "\n",
        "    Cost = computeCost(Pu, Cu_imp, Pi, Ci_imp, X, Y, lamda)\n",
        "    C_implicit.append(Cost)\n",
        "    if(k <10):\n",
        "      pui = np.dot(x_30.T, y_83)\n",
        "      print(\"For Iteration\",k+1,\"p_30_83 = \", pui )\n",
        "\n",
        "  return X,Y, C_implicit\n"
      ],
      "execution_count": 0,
      "outputs": []
    },
    {
      "cell_type": "markdown",
      "metadata": {
        "id": "dyu0GUSlMvF0",
        "colab_type": "text"
      },
      "source": [
        "Calculate sparsity ratio for the two datasets"
      ]
    },
    {
      "cell_type": "code",
      "metadata": {
        "id": "diM1HoFANBUc",
        "colab_type": "code",
        "colab": {
          "base_uri": "https://localhost:8080/",
          "height": 34
        },
        "outputId": "7f4e2cbe-ffc6-4106-d8c4-a384a0c6097a"
      },
      "source": [
        "#For user_artist_small data\n",
        "r = 100\n",
        "c= 100\n",
        "SparseDataSmall, alpha_small = computeSparsityRatio(users_small, r, c)\n",
        "alpha_small"
      ],
      "execution_count": 12,
      "outputs": [
        {
          "output_type": "execute_result",
          "data": {
            "text/plain": [
              "0.027221366204417053"
            ]
          },
          "metadata": {
            "tags": []
          },
          "execution_count": 12
        }
      ]
    },
    {
      "cell_type": "code",
      "metadata": {
        "id": "t6B4FeiDRN1O",
        "colab_type": "code",
        "colab": {
          "base_uri": "https://localhost:8080/",
          "height": 34
        },
        "outputId": "fde4e82c-0913-42ac-cd4a-eb8c87d04873"
      },
      "source": [
        "#For user_artist_synthetic data\n",
        "r = 100\n",
        "c= 100\n",
        "SparseDataSynth, alpha_synth = computeSparsityRatio(user_synth, r, c)\n",
        "alpha_synth"
      ],
      "execution_count": 13,
      "outputs": [
        {
          "output_type": "execute_result",
          "data": {
            "text/plain": [
              "0.24285359184688043"
            ]
          },
          "metadata": {
            "tags": []
          },
          "execution_count": 13
        }
      ]
    },
    {
      "cell_type": "markdown",
      "metadata": {
        "id": "89-UpWEVM9nr",
        "colab_type": "text"
      },
      "source": [
        "Implicit recommendation system using ALS algorithm"
      ]
    },
    {
      "cell_type": "code",
      "metadata": {
        "id": "xTYB_TeuU1EX",
        "colab_type": "code",
        "colab": {
          "base_uri": "https://localhost:8080/",
          "height": 185
        },
        "outputId": "57ac94d9-8a5e-454a-8c18-a5c9ad427093"
      },
      "source": [
        "#For user_artist_small data\n",
        "lamda = 0.1\n",
        "f = 5\n",
        "\n",
        "X_users,Y_items, cost = computeImplicitALS(SparseDataSmall,alpha_small, lamda, f)"
      ],
      "execution_count": 32,
      "outputs": [
        {
          "output_type": "stream",
          "text": [
            "For Iteration 1 p_30_83 =  0.7467203121174106\n",
            "For Iteration 2 p_30_83 =  0.48503956255112746\n",
            "For Iteration 3 p_30_83 =  0.7813042645931054\n",
            "For Iteration 4 p_30_83 =  -0.030479265849379433\n",
            "For Iteration 5 p_30_83 =  -0.0059032928380542415\n",
            "For Iteration 6 p_30_83 =  -0.08454620160717952\n",
            "For Iteration 7 p_30_83 =  0.010184058520157468\n",
            "For Iteration 8 p_30_83 =  0.015736676484060186\n",
            "For Iteration 9 p_30_83 =  0.05972496945128469\n",
            "For Iteration 10 p_30_83 =  0.06603006416976509\n"
          ],
          "name": "stdout"
        }
      ]
    },
    {
      "cell_type": "code",
      "metadata": {
        "id": "6YvLU3VZVyzD",
        "colab_type": "code",
        "colab": {
          "base_uri": "https://localhost:8080/",
          "height": 34
        },
        "outputId": "df49e0b3-6cf8-473a-c1f0-6cd860fd179d"
      },
      "source": [
        "#Pui for u = 30 and I = 83 after 1000 iterations\n",
        "X_u = X_users[30]\n",
        "Y_i = Y_items[83]\n",
        "\n",
        "pui = np.dot(X_u.T, Y_i)\n",
        "pui"
      ],
      "execution_count": 33,
      "outputs": [
        {
          "output_type": "execute_result",
          "data": {
            "text/plain": [
              "0.13767716578752315"
            ]
          },
          "metadata": {
            "tags": []
          },
          "execution_count": 33
        }
      ]
    },
    {
      "cell_type": "code",
      "metadata": {
        "id": "a0cnHSE8gQSQ",
        "colab_type": "code",
        "colab": {
          "base_uri": "https://localhost:8080/",
          "height": 185
        },
        "outputId": "70cf377e-2070-4652-ac00-056167fccd12"
      },
      "source": [
        "#For user_artist_synth data\n",
        "lamda = 0.1\n",
        "f = 5\n",
        "\n",
        "X_users,Y_items, cost_2 = computeImplicitALS(SparseDataSynth,alpha_synth, lamda, f)"
      ],
      "execution_count": 35,
      "outputs": [
        {
          "output_type": "stream",
          "text": [
            "For Iteration 1 p_30_83 =  0.017757140018249934\n",
            "For Iteration 2 p_30_83 =  0.02156433187018421\n",
            "For Iteration 3 p_30_83 =  0.019634813404576443\n",
            "For Iteration 4 p_30_83 =  0.022839400733752065\n",
            "For Iteration 5 p_30_83 =  0.02105638409534122\n",
            "For Iteration 6 p_30_83 =  0.02285157926019685\n",
            "For Iteration 7 p_30_83 =  -0.003650476112346382\n",
            "For Iteration 8 p_30_83 =  0.01911327130416133\n",
            "For Iteration 9 p_30_83 =  0.010138776579776236\n",
            "For Iteration 10 p_30_83 =  0.021091454306038624\n"
          ],
          "name": "stdout"
        }
      ]
    },
    {
      "cell_type": "code",
      "metadata": {
        "id": "mayfRllVh8DB",
        "colab_type": "code",
        "colab": {
          "base_uri": "https://localhost:8080/",
          "height": 34
        },
        "outputId": "9458b685-049d-42bf-d280-a74eddbc843a"
      },
      "source": [
        "#Pui for u = 30 and I = 83 after 1000 iterations\n",
        "X_u = X_users[30]\n",
        "Y_i = Y_items[83]\n",
        "\n",
        "pui = np.dot(X_u.T, Y_i)\n",
        "pui"
      ],
      "execution_count": 36,
      "outputs": [
        {
          "output_type": "execute_result",
          "data": {
            "text/plain": [
              "0.031263488981514015"
            ]
          },
          "metadata": {
            "tags": []
          },
          "execution_count": 36
        }
      ]
    },
    {
      "cell_type": "code",
      "metadata": {
        "id": "IT0skFn2FW1m",
        "colab_type": "code",
        "colab": {
          "base_uri": "https://localhost:8080/",
          "height": 498
        },
        "outputId": "d4dfddc9-4741-4500-aff8-24e13f3a1c67"
      },
      "source": [
        "#plotting the ALS cost function vs iteration graph for the two datasets \n",
        "plt.figure(figsize = (25,10))\n",
        "\n",
        "plt.subplot(1,2,1)\n",
        "plt.plot(cost, color = \"red\")\n",
        "plt.xlabel(\"Iterations\")\n",
        "plt.ylabel(\"Cost\")\n",
        "plt.title(\"User_artist_small data\")\n",
        "\n",
        "plt.subplot(1,2,2)\n",
        "plt.plot(cost_2, color = \"blue\")\n",
        "plt.xlabel(\"Iterations\")\n",
        "plt.ylabel(\"Cost\")\n",
        "plt.title(\"User_artist_synthetic data\")"
      ],
      "execution_count": 40,
      "outputs": [
        {
          "output_type": "execute_result",
          "data": {
            "text/plain": [
              "Text(0.5, 1.0, 'User_artist_synthetic data')"
            ]
          },
          "metadata": {
            "tags": []
          },
          "execution_count": 40
        },
        {
          "output_type": "display_data",
          "data": {
            "image/png": "[encoded data removed]",
            "text/plain": [
              "<Figure size 1800x720 with 2 Axes>"
            ]
          },
          "metadata": {
            "tags": [],
            "needs_background": "light"
          }
        }
      ]
    },
    {
      "cell_type": "code",
      "metadata": {
        "id": "_m3eiQXma31K",
        "colab_type": "code",
        "colab": {}
      },
      "source": [
        ""
      ],
      "execution_count": 0,
      "outputs": []
    }
  ]
}